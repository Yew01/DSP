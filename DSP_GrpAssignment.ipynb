{
 "cells": [
  {
   "cell_type": "markdown",
   "metadata": {},
   "source": [
    "# Data Science Principles Group 12 - Predicting the Survival of RMS Titanic Passengers\n",
    "- Yew Kai Shen (0338789)\n",
    "- Lim Tong Xir (0343145)\n",
    "- Siew Wai Leong (0332189)\n",
    "- Jane Chong Yun Ann(0344255)"
   ]
  },
  {
   "cell_type": "markdown",
   "metadata": {},
   "source": [
    "# Abstract"
   ]
  },
  {
   "cell_type": "markdown",
   "metadata": {},
   "source": [
    "The purpose of this research is to predict the survival rate of the titanic disaster by analysing the factors affecting it. We aim to provide a prediction based on the most influential factors affecting the survival rate such as passenger characteristic of sex, fare, age and number of relatives. We will be using machine learning and predictive methods to aid our research on the matter. Results that clearly predict the survival rate based on categorized factors will be anticipated. We hope that our research on this case would be a stepping stone to a better predictive model for such a disaster so that the casualties  number of similar accidents in future would be significantly lower. Testing"
   ]
  },
  {
   "cell_type": "markdown",
   "metadata": {},
   "source": [
    "# Introduction"
   ]
  },
  {
   "cell_type": "markdown",
   "metadata": {},
   "source": [
    "The Royal Mail Ship (RMS) Titanic was a British passenger Ocean liner, which represented the most advanced level of shipping technology at that time and was considered an unsinkable ship. On April 14–15, 1912, however, the Titanic sank in the North Atlantic Ocean less than three hours after colliding with an iceberg, making the Titanic become one of the most famous shipwrecks in world history. From this disaster, nearly 1502 out of 2224 passengers were lost, leaving countless loved ones behind. This tragedy has a major impact on both the dead and surviving passengers, and the survivors are the participants in the whole process. Although there were some luck factors in surviving, it seems that some groups of people were more likely to survive than others. Thus, our objective is to successfully predict the survival of RMS Titanic passengers and analyze which passengers are more likely to survive by applying machine learning algorithms. Through the prediction and analysis of passenger survivability, similar disasters can be avoided in the future and the survival rate of various groups of people can be improved."
   ]
  },
  {
   "cell_type": "markdown",
   "metadata": {},
   "source": [
    "# Related Work"
   ]
  },
  {
   "cell_type": "markdown",
   "metadata": {},
   "source": [
    "The topic we are going to outline is related to predicting the survival of Titanic passengers. Many recent research papers have divided the predictive model for Titanic passengers into 6 sections, which are algorithms, factors, technology, travel behaviour, model and datasets. "
   ]
  },
  {
   "cell_type": "code",
   "execution_count": 1,
   "metadata": {},
   "outputs": [
    {
     "data": {
      "image/jpeg": "[encoded data removed]",
      "text/plain": [
       "<IPython.core.display.Image object>"
      ]
     },
     "execution_count": 1,
     "metadata": {
      "image/jpeg": {
       "height": 500,
       "width": 500
      }
     },
     "output_type": "execute_result"
    }
   ],
   "source": [
    "from IPython.display import Image\n",
    "Image(filename=r\"C:\\Users\\janey\\Downloads\\Taxonomy.jpg\",width=500,height=500)"
   ]
  },
  {
   "cell_type": "markdown",
   "metadata": {},
   "source": [
    "In the research papers that we have studied, the most common algorithms used by their researchers are as follows: random forest, decision tree, ANN, Naive Bayes, Gradient Boosting and KNN. Among all these algorithms, random forest and decision tree were the most commonly used followed by Naive bayes. While unlisted in the taxonomy, there were countless other algorithms that were utilized as well but was omitted from the taxonomy due to being too advanced or less commonly used.\n",
    "\n",
    "The factors that were identified as having an influential effect on survival rate by these papers were passenger’s age, gender, social class, family size,family links and fare. These were the most commonly identified factors that these research papers used to conduct their research. Valid reasoning were provided as to why these factors were chosen and strong evidence in the form of result of their studies shown that these factors were indeed influential in the prediction of survival rate of the Titanic.\n",
    "\n",
    "There were 3 technologies that were utilized by their research, which is Weka, R and Python. R and Python are the most commonly used technologies in our list of research papers while Weka is less common. Specific reasons on their preferred usage of R and Python is not directly disclosed but we can speculate that it is because these 2 are more popularly common and easier to interact with.\n",
    "\n",
    "All these research papers that we have studied did only one thing, with their sole objective focusing on forecasting the survivability of a passenger or a certain group of passengers.\n",
    "\n",
    "The models that were developed by this research are logistic regression, SVM  and cross validation. These 3 were the most common developed models, however, just like methods, there were countless other models that were developed but omitted from the taxonomy due to being too advanced for our current level of understanding or too obscure.\n",
    "\n",
    "It is also important to mention that all these researchers have attained their datasets from Kaggle. The validification of these datasets were also confirmed by accessing the link provided by these research papers under their reference or dataset obtained section.\n",
    "\n",
    "In conclusion, these research papers that we have studied on would be heavily beneficial to our own research not only because they have a certain degree of similarity to our study but also because we would review it and identify errors or any lacking compartment where we would be careful not to repeat. These research papers also tremendously help us by giving us a look at the results of the models developed by using different methods as well as a great reference on what factors have the most impact on survival rate. \n",
    "\n",
    "The approach of many research papers is focused on R for executing and comparing multiple algorithms and models. Logistic Regression, Decision Tree, and Random Forest are common methods used to predict the survival of Titanic passengers. Among these common methods, Logistic Regression proved to be the best one to get accurate results. Furthermore, research has attempted to balance the different characteristics of the available dataset in order to provide the best prediction results. Many studies have concluded that gender is the most dominant feature for accurately predicting survival rates. In comparison to existing research, we attempt to obtain as reliable results as possible by using various combinations of features and different machine learning methods on Python."
   ]
  },
  {
   "cell_type": "markdown",
   "metadata": {},
   "source": [
    "# Problem Statement"
   ]
  },
  {
   "cell_type": "markdown",
   "metadata": {},
   "source": [
    "During the sinking of the Titanic, there were 2208 passengers (not including the crew) and 16 lifeboats, which was only enough to accommodate half the number of passengers aboard (Onion, A., et al, 2009.). While this factor seems to affect the survival rate of all passengers equally, the distribution of survival rate is not even. Therefore, there are a number of researches that found few possible factors that could have affected it but there is not as much research exploring which factor truly influences the passengers’ survival rate. \n",
    "\n",
    "As the ship was well built, it is fair that all the passengers that aboard on this ship have a chance to survive during this Titanic tragedy but the skewed survival rate showcased otherwise. Through an in-depth analysis and pattern-finding via machine learning, a deeper understanding can be achieved and theories can be derived, thus this can help in future management and decision making of the ship crew and passengers. \n",
    "\n",
    "RMS Titanic suffered financial losses from losing passengers’ possessions and cargo mail. Many property claims were filed against The White Star Line after the tragedy, and it amounted up to $9.42 million (Anon, n.d.). The Titanic was insured for $133 million and cost $7.5 million in 1912 dollars, which is about $180 million in today’s conversion (Daugherty, G., 2016).\n",
    "\n",
    "To explain why the most luxurious cruise ship of its time (Daugherty, G., 2016) has a low and uneven survival rate of passengers, a solution is proposed in this paper. It is to analyse the data of passengers who did survive and who did not survive and discover the common traits and trends. This can be done through machine learning and developing predictive models to predict if the passengers survived.\n",
    "\n",
    "The benefit is that machine learning can do what humans are not able to do. For example, it is able to easily identify the trends and patterns of numerous data and it can improve to be more efficient and accurate as the amount of data keeps growing. Moreover, it can learn to make more accurate predictions faster and allows for comparison. \n",
    "Thus, after all the research and analysis, the problem is the low and skewed survival rate of the RMS Titanic despite being a luxurious, well-insured ship. Machine learning algorithms will be used to determine the most influential factors as well as predict the survival of passengers."
   ]
  },
  {
   "cell_type": "markdown",
   "metadata": {},
   "source": [
    "# Data Science Processes"
   ]
  },
  {
   "cell_type": "markdown",
   "metadata": {},
   "source": [
    "Firstly, we will be importing the libraries that we will be using for this notebook. Libraries in Python is extensions that provide essential functions depending on user's task. Below is all the libraries that we have imported and find useful for our task."
   ]
  },
  {
   "cell_type": "code",
   "execution_count": 2,
   "metadata": {
    "scrolled": true
   },
   "outputs": [
    {
     "data": {
      "text/html": [
       "<div>\n",
       "<style scoped>\n",
       "    .dataframe tbody tr th:only-of-type {\n",
       "        vertical-align: middle;\n",
       "    }\n",
       "\n",
       "    .dataframe tbody tr th {\n",
       "        vertical-align: top;\n",
       "    }\n",
       "\n",
       "    .dataframe thead th {\n",
       "        text-align: right;\n",
       "    }\n",
       "</style>\n",
       "<table border=\"1\" class=\"dataframe\">\n",
       "  <thead>\n",
       "    <tr style=\"text-align: right;\">\n",
       "      <th></th>\n",
       "      <th>PassengerId</th>\n",
       "      <th>Survived</th>\n",
       "      <th>Pclass</th>\n",
       "      <th>Name</th>\n",
       "      <th>Sex</th>\n",
       "      <th>Age</th>\n",
       "      <th>SibSp</th>\n",
       "      <th>Parch</th>\n",
       "      <th>Ticket</th>\n",
       "      <th>Fare</th>\n",
       "      <th>Cabin</th>\n",
       "      <th>Embarked</th>\n",
       "    </tr>\n",
       "  </thead>\n",
       "  <tbody>\n",
       "    <tr>\n",
       "      <th>0</th>\n",
       "      <td>1</td>\n",
       "      <td>0</td>\n",
       "      <td>3</td>\n",
       "      <td>Braund, Mr. Owen Harris</td>\n",
       "      <td>male</td>\n",
       "      <td>22.0</td>\n",
       "      <td>1</td>\n",
       "      <td>0</td>\n",
       "      <td>A/5 21171</td>\n",
       "      <td>7.2500</td>\n",
       "      <td>NaN</td>\n",
       "      <td>S</td>\n",
       "    </tr>\n",
       "    <tr>\n",
       "      <th>1</th>\n",
       "      <td>2</td>\n",
       "      <td>1</td>\n",
       "      <td>1</td>\n",
       "      <td>Cumings, Mrs. John Bradley (Florence Briggs Th...</td>\n",
       "      <td>female</td>\n",
       "      <td>38.0</td>\n",
       "      <td>1</td>\n",
       "      <td>0</td>\n",
       "      <td>PC 17599</td>\n",
       "      <td>71.2833</td>\n",
       "      <td>C85</td>\n",
       "      <td>C</td>\n",
       "    </tr>\n",
       "    <tr>\n",
       "      <th>2</th>\n",
       "      <td>3</td>\n",
       "      <td>1</td>\n",
       "      <td>3</td>\n",
       "      <td>Heikkinen, Miss. Laina</td>\n",
       "      <td>female</td>\n",
       "      <td>26.0</td>\n",
       "      <td>0</td>\n",
       "      <td>0</td>\n",
       "      <td>STON/O2. 3101282</td>\n",
       "      <td>7.9250</td>\n",
       "      <td>NaN</td>\n",
       "      <td>S</td>\n",
       "    </tr>\n",
       "    <tr>\n",
       "      <th>3</th>\n",
       "      <td>4</td>\n",
       "      <td>1</td>\n",
       "      <td>1</td>\n",
       "      <td>Futrelle, Mrs. Jacques Heath (Lily May Peel)</td>\n",
       "      <td>female</td>\n",
       "      <td>35.0</td>\n",
       "      <td>1</td>\n",
       "      <td>0</td>\n",
       "      <td>113803</td>\n",
       "      <td>53.1000</td>\n",
       "      <td>C123</td>\n",
       "      <td>S</td>\n",
       "    </tr>\n",
       "    <tr>\n",
       "      <th>4</th>\n",
       "      <td>5</td>\n",
       "      <td>0</td>\n",
       "      <td>3</td>\n",
       "      <td>Allen, Mr. William Henry</td>\n",
       "      <td>male</td>\n",
       "      <td>35.0</td>\n",
       "      <td>0</td>\n",
       "      <td>0</td>\n",
       "      <td>373450</td>\n",
       "      <td>8.0500</td>\n",
       "      <td>NaN</td>\n",
       "      <td>S</td>\n",
       "    </tr>\n",
       "  </tbody>\n",
       "</table>\n",
       "</div>"
      ],
      "text/plain": [
       "   PassengerId  Survived  Pclass  \\\n",
       "0            1         0       3   \n",
       "1            2         1       1   \n",
       "2            3         1       3   \n",
       "3            4         1       1   \n",
       "4            5         0       3   \n",
       "\n",
       "                                                Name     Sex   Age  SibSp  \\\n",
       "0                            Braund, Mr. Owen Harris    male  22.0      1   \n",
       "1  Cumings, Mrs. John Bradley (Florence Briggs Th...  female  38.0      1   \n",
       "2                             Heikkinen, Miss. Laina  female  26.0      0   \n",
       "3       Futrelle, Mrs. Jacques Heath (Lily May Peel)  female  35.0      1   \n",
       "4                           Allen, Mr. William Henry    male  35.0      0   \n",
       "\n",
       "   Parch            Ticket     Fare Cabin Embarked  \n",
       "0      0         A/5 21171   7.2500   NaN        S  \n",
       "1      0          PC 17599  71.2833   C85        C  \n",
       "2      0  STON/O2. 3101282   7.9250   NaN        S  \n",
       "3      0            113803  53.1000  C123        S  \n",
       "4      0            373450   8.0500   NaN        S  "
      ]
     },
     "execution_count": 2,
     "metadata": {},
     "output_type": "execute_result"
    }
   ],
   "source": [
    "#import visualization libaries\n",
    "import matplotlib.pyplot as plt\n",
    "import seaborn as sns\n",
    "\n",
    "#import libraries packages\n",
    "import pandas as pd \n",
    "import numpy as np \n",
    "import sklearn \n",
    "import collections\n",
    "import pydotplus\n",
    "\n",
    "#import machine learning models and algorithms\n",
    "from sklearn import model_selection, preprocessing, feature_selection, ensemble\n",
    "from sklearn import linear_model, metrics, decomposition, tree\n",
    "from sklearn.linear_model import LogisticRegression\n",
    "from sklearn.model_selection import train_test_split #For splitting data arrays into two subsets\n",
    "from sklearn.metrics import confusion_matrix\n",
    "from sklearn.metrics import classification_report\n",
    "from sklearn import model_selection\n",
    "from sklearn.ensemble import RandomForestClassifier\n",
    "from sklearn.svm import SVC, LinearSVC\n",
    "from sklearn.model_selection import cross_val_score #Evaluate a score by cross-validation\n",
    "from sklearn.metrics import plot_confusion_matrix #Plotting confusion matrix\n",
    "\n",
    "#read csv into Pandas Dataframe and store in dataset variable\n",
    "dataset = pd.read_csv(\"C:\\\\Users\\\\janey\\\\OneDrive\\\\Desktop\\\\Uni\\\\Sem 3\\\\Data Science Principles\\\\Grp Assignment\\\\titanic (1)\\\\train.csv\")\n",
    "#print the first five rows of the data in order to understand the contents\n",
    "dataset.head() "
   ]
  },
  {
   "cell_type": "code",
   "execution_count": 3,
   "metadata": {
    "scrolled": true
   },
   "outputs": [
    {
     "data": {
      "text/plain": [
       "PassengerId      int64\n",
       "Survived         int64\n",
       "Pclass           int64\n",
       "Name            object\n",
       "Sex             object\n",
       "Age            float64\n",
       "SibSp            int64\n",
       "Parch            int64\n",
       "Ticket          object\n",
       "Fare           float64\n",
       "Cabin           object\n",
       "Embarked        object\n",
       "dtype: object"
      ]
     },
     "execution_count": 3,
     "metadata": {},
     "output_type": "execute_result"
    }
   ],
   "source": [
    "#returns the data type of each column\n",
    "dataset.dtypes"
   ]
  },
  {
   "cell_type": "markdown",
   "metadata": {},
   "source": [
    "7 column variables are encoded as numeric data types (int and float) and 5 of them are encoded as \"objects\"."
   ]
  },
  {
   "cell_type": "code",
   "execution_count": 4,
   "metadata": {},
   "outputs": [
    {
     "name": "stdout",
     "output_type": "stream",
     "text": [
      "     PassengerId  Survived  Pclass  \\\n",
      "0              1         0       3   \n",
      "1              2         1       1   \n",
      "2              3         1       3   \n",
      "3              4         1       1   \n",
      "4              5         0       3   \n",
      "..           ...       ...     ...   \n",
      "886          887         0       2   \n",
      "887          888         1       1   \n",
      "888          889         0       3   \n",
      "889          890         1       1   \n",
      "890          891         0       3   \n",
      "\n",
      "                                                  Name     Sex   Age  SibSp  \\\n",
      "0                              Braund, Mr. Owen Harris    male  22.0      1   \n",
      "1    Cumings, Mrs. John Bradley (Florence Briggs Th...  female  38.0      1   \n",
      "2                               Heikkinen, Miss. Laina  female  26.0      0   \n",
      "3         Futrelle, Mrs. Jacques Heath (Lily May Peel)  female  35.0      1   \n",
      "4                             Allen, Mr. William Henry    male  35.0      0   \n",
      "..                                                 ...     ...   ...    ...   \n",
      "886                              Montvila, Rev. Juozas    male  27.0      0   \n",
      "887                       Graham, Miss. Margaret Edith  female  19.0      0   \n",
      "888           Johnston, Miss. Catherine Helen \"Carrie\"  female   NaN      1   \n",
      "889                              Behr, Mr. Karl Howell    male  26.0      0   \n",
      "890                                Dooley, Mr. Patrick    male  32.0      0   \n",
      "\n",
      "     Parch            Ticket     Fare Cabin Embarked  \n",
      "0        0         A/5 21171   7.2500   NaN        S  \n",
      "1        0          PC 17599  71.2833   C85        C  \n",
      "2        0  STON/O2. 3101282   7.9250   NaN        S  \n",
      "3        0            113803  53.1000  C123        S  \n",
      "4        0            373450   8.0500   NaN        S  \n",
      "..     ...               ...      ...   ...      ...  \n",
      "886      0            211536  13.0000   NaN        S  \n",
      "887      0            112053  30.0000   B42        S  \n",
      "888      2        W./C. 6607  23.4500   NaN        S  \n",
      "889      0            111369  30.0000  C148        C  \n",
      "890      0            370376   7.7500   NaN        Q  \n",
      "\n",
      "[891 rows x 12 columns]\n"
     ]
    }
   ],
   "source": [
    "#to display the partial data of dataset\n",
    "print(dataset)"
   ]
  },
  {
   "cell_type": "markdown",
   "metadata": {},
   "source": [
    "# Data Acquisition"
   ]
  },
  {
   "cell_type": "markdown",
   "metadata": {},
   "source": [
    "In this process, we gather Titanic dataset train.csv in the form of CSV file from www.Kaggle.com. This dataset is used for predicting whether a passenger on the Titanic would have been survived or not. We choose the Kaggle platform as our data source because it is a qualified and reliable data source, thus the data provided is real and referenced. Furthermore, the Kaggle is open source so we can obtain the Titanic dataset from it without any worries regarding ethical issues. In order for us to carry out the next series of work better and more smoothly, we will first understand the features of the data. The dataset will split into training and testing subsets. 60% will be used to train the models and the remaining 40% will be used to test the models."
   ]
  },
  {
   "cell_type": "markdown",
   "metadata": {},
   "source": [
    "### To understand the data features "
   ]
  },
  {
   "cell_type": "markdown",
   "metadata": {},
   "source": [
    "|Variable | Definition|Key|\n",
    "|-----|-----|-----|\n",
    "|PassengerId | Id of every Passenger | |\n",
    "|Survived | Survival |0 = No, 1 = Yes|\n",
    "|Pclass | Ticket class |1 = Upper class, 2 = Middle class, 3 = Lower class |\n",
    "|Name | Passenger's name | |\n",
    "|Sex | Gender | |\n",
    "|Age | Age in years | |\n",
    "|Sibsp | Number of siblings / spouses aboard the Titanic | |\n",
    "|Parch | Number of parents / children aboard the Titanic | |\n",
    "|Ticket | Ticket number | |\n",
    "|Fare | Fare spend by passenger | |\n",
    "|Cabin | Cabin number | |\n",
    "|Embarked | Port of embarkation |C = Cherbourg, Q = Queenstown, S = Southampton |"
   ]
  },
  {
   "cell_type": "markdown",
   "metadata": {},
   "source": [
    "Pclass: A proxy for social status\n",
    "\n",
    "Age: Age of less than 1 will be in the form of fraction, e.g. 0.83  while Age that is estimated will be in the form of xx.5\n",
    "\n",
    "Sibsp: The dataset categorized family relations in this manner:\n",
    "Sibling = brother, sister, stepbrother, stepsister\n",
    "Spouse = husband, wife (mistresses and fiancés were not classified as spouse)\n",
    "\n",
    "Parch:The dataset categorized family relations in this manner:\n",
    "Parent= mother, father\n",
    "Child= daughter, son, stepdaughter, stepson\n",
    "Some children traveled only with a nanny, therefore parch=0 for them."
   ]
  },
  {
   "cell_type": "markdown",
   "metadata": {},
   "source": [
    "# Data preparation"
   ]
  },
  {
   "cell_type": "markdown",
   "metadata": {},
   "source": [
    "In this process, we will be cleaning and transforming raw data prior to analysis and processing so that it can be easier to access, read and appear more orderly."
   ]
  },
  {
   "cell_type": "markdown",
   "metadata": {},
   "source": [
    "### Discover and assess data "
   ]
  },
  {
   "cell_type": "code",
   "execution_count": 5,
   "metadata": {},
   "outputs": [
    {
     "data": {
      "text/plain": [
       "(891, 12)"
      ]
     },
     "execution_count": 5,
     "metadata": {},
     "output_type": "execute_result"
    }
   ],
   "source": [
    "#count the total number of rows and columns in the dataset\n",
    "dataset.shape"
   ]
  },
  {
   "cell_type": "markdown",
   "metadata": {},
   "source": [
    "The dataset has 891 rows(observations) and 12 columns(features)."
   ]
  },
  {
   "cell_type": "markdown",
   "metadata": {},
   "source": [
    "### Data Transformation"
   ]
  },
  {
   "cell_type": "markdown",
   "metadata": {},
   "source": [
    "#### 1) Name\n",
    "First find out the number of titles there are."
   ]
  },
  {
   "cell_type": "code",
   "execution_count": 6,
   "metadata": {},
   "outputs": [
    {
     "data": {
      "text/plain": [
       "Name        \n",
       "Mr              517\n",
       "Miss            182\n",
       "Mrs             125\n",
       "Master           40\n",
       "Dr                7\n",
       "Rev               6\n",
       "Col               2\n",
       "Mlle              2\n",
       "Major             2\n",
       "Jonkheer          1\n",
       "Don               1\n",
       "the Countess      1\n",
       "Lady              1\n",
       "Sir               1\n",
       "Mme               1\n",
       "Ms                1\n",
       "Capt              1\n",
       "dtype: int64"
      ]
     },
     "execution_count": 6,
     "metadata": {},
     "output_type": "execute_result"
    }
   ],
   "source": [
    "#extract the passenger Title from Name\n",
    "def get_title(x):\n",
    "    return x.split(',')[1].split('.')[0].strip()\n",
    "\n",
    "titles = pd.DataFrame(dataset['Name'].apply(get_title))\n",
    "titles.value_counts()\n"
   ]
  },
  {
   "cell_type": "markdown",
   "metadata": {},
   "source": [
    "There are many titles but most are relatively few. They can be categorized as 'other'.\n",
    "Then extract the titles from the 'Name' feature and drop it."
   ]
  },
  {
   "cell_type": "code",
   "execution_count": 7,
   "metadata": {},
   "outputs": [],
   "source": [
    "#These 5 titles will be the only titles after undergoing data transformation, and assigned with their respective numeric value.\n",
    "titles_no = {\"Mr\": 1, \"Ms\": 2, \"Mrs\": 3, \"Master\": 4, \"Other\": 5}"
   ]
  },
  {
   "cell_type": "code",
   "execution_count": 8,
   "metadata": {
    "scrolled": true
   },
   "outputs": [],
   "source": [
    "\n",
    "##extract titles\n",
    "dataset['Title'] = dataset['Name'].apply(get_title)\n",
    "##replacing titles with a more common title or as 'other''\n",
    "dataset['Title'] = dataset['Title'].replace(['Lady', 'Countess','Capt', 'Col','Don', 'Dr',\n",
    "                                            'Major', 'Rev', 'Sir', 'Jonkheer', 'Dona'], 'Other')\n",
    "dataset['Title'] = dataset['Title'].replace('Mlle', 'Ms')\n",
    "dataset['Title'] = dataset['Title'].replace('Miss', 'Ms')\n",
    "dataset['Title'] = dataset['Title'].replace('Mme', 'Mrs')\n",
    "##convert titles into numbers\n",
    "dataset['Title'] = dataset['Title'].map(titles_no)\n"
   ]
  },
  {
   "cell_type": "code",
   "execution_count": 9,
   "metadata": {},
   "outputs": [],
   "source": [
    "##dropping 'Name' column\n",
    "dataset = dataset.drop(['Name'], axis=1)"
   ]
  },
  {
   "cell_type": "markdown",
   "metadata": {},
   "source": [
    "#### 2) SibSp and Parch\n",
    "Both features are added together to create a new feature, 'FamilySize'."
   ]
  },
  {
   "cell_type": "code",
   "execution_count": 10,
   "metadata": {},
   "outputs": [],
   "source": [
    "dataset['FamilySize'] = dataset['SibSp'] + dataset['Parch']\n",
    "\n",
    "##dropping 'SibSp' and 'Parch' column\n",
    "dataset = dataset.drop(['SibSp'], axis=1)\n",
    "dataset = dataset.drop(['Parch'], axis=1)"
   ]
  },
  {
   "cell_type": "markdown",
   "metadata": {},
   "source": [
    "#### 3) Fare\n",
    "From the head() function above, there were many decimal places in values under 'Fare'. We will round it to 2 decimal places."
   ]
  },
  {
   "cell_type": "code",
   "execution_count": 11,
   "metadata": {},
   "outputs": [
    {
     "data": {
      "text/plain": [
       "PassengerId      int64\n",
       "Survived         int64\n",
       "Pclass           int64\n",
       "Sex             object\n",
       "Age            float64\n",
       "Ticket          object\n",
       "Fare           float64\n",
       "Cabin           object\n",
       "Embarked        object\n",
       "Title          float64\n",
       "FamilySize       int64\n",
       "dtype: object"
      ]
     },
     "execution_count": 11,
     "metadata": {},
     "output_type": "execute_result"
    }
   ],
   "source": [
    "dataset['Fare'] = dataset['Fare'].round(2)\n",
    "dataset.dtypes"
   ]
  },
  {
   "cell_type": "markdown",
   "metadata": {},
   "source": [
    "\"Age\" is still a float but we need to handle the missing values present on \"Age\" in the dataset before we could change it's data type from \"float64\" to \"int64\" and categorize it."
   ]
  },
  {
   "cell_type": "markdown",
   "metadata": {},
   "source": [
    "# EDA"
   ]
  },
  {
   "cell_type": "markdown",
   "metadata": {},
   "source": [
    "Here, we are going to perform initial investigations on data so as to discover patterns and abnormalities. We will explore the types of data, do analysis and summarize the main features."
   ]
  },
  {
   "cell_type": "markdown",
   "metadata": {},
   "source": [
    "## Description of data "
   ]
  },
  {
   "cell_type": "markdown",
   "metadata": {},
   "source": [
    "The statistical analysis of the raw data."
   ]
  },
  {
   "cell_type": "code",
   "execution_count": 12,
   "metadata": {},
   "outputs": [
    {
     "data": {
      "text/html": [
       "<div>\n",
       "<style scoped>\n",
       "    .dataframe tbody tr th:only-of-type {\n",
       "        vertical-align: middle;\n",
       "    }\n",
       "\n",
       "    .dataframe tbody tr th {\n",
       "        vertical-align: top;\n",
       "    }\n",
       "\n",
       "    .dataframe thead th {\n",
       "        text-align: right;\n",
       "    }\n",
       "</style>\n",
       "<table border=\"1\" class=\"dataframe\">\n",
       "  <thead>\n",
       "    <tr style=\"text-align: right;\">\n",
       "      <th></th>\n",
       "      <th>PassengerId</th>\n",
       "      <th>Survived</th>\n",
       "      <th>Pclass</th>\n",
       "      <th>Age</th>\n",
       "      <th>Fare</th>\n",
       "      <th>Title</th>\n",
       "      <th>FamilySize</th>\n",
       "    </tr>\n",
       "  </thead>\n",
       "  <tbody>\n",
       "    <tr>\n",
       "      <th>count</th>\n",
       "      <td>891.000000</td>\n",
       "      <td>891.000000</td>\n",
       "      <td>891.000000</td>\n",
       "      <td>714.000000</td>\n",
       "      <td>891.000000</td>\n",
       "      <td>890.000000</td>\n",
       "      <td>891.000000</td>\n",
       "    </tr>\n",
       "    <tr>\n",
       "      <th>mean</th>\n",
       "      <td>446.000000</td>\n",
       "      <td>0.383838</td>\n",
       "      <td>2.308642</td>\n",
       "      <td>29.699118</td>\n",
       "      <td>32.204366</td>\n",
       "      <td>1.724719</td>\n",
       "      <td>0.904602</td>\n",
       "    </tr>\n",
       "    <tr>\n",
       "      <th>std</th>\n",
       "      <td>257.353842</td>\n",
       "      <td>0.486592</td>\n",
       "      <td>0.836071</td>\n",
       "      <td>14.526497</td>\n",
       "      <td>49.693414</td>\n",
       "      <td>1.024753</td>\n",
       "      <td>1.613459</td>\n",
       "    </tr>\n",
       "    <tr>\n",
       "      <th>min</th>\n",
       "      <td>1.000000</td>\n",
       "      <td>0.000000</td>\n",
       "      <td>1.000000</td>\n",
       "      <td>0.420000</td>\n",
       "      <td>0.000000</td>\n",
       "      <td>1.000000</td>\n",
       "      <td>0.000000</td>\n",
       "    </tr>\n",
       "    <tr>\n",
       "      <th>25%</th>\n",
       "      <td>223.500000</td>\n",
       "      <td>0.000000</td>\n",
       "      <td>2.000000</td>\n",
       "      <td>20.125000</td>\n",
       "      <td>7.910000</td>\n",
       "      <td>1.000000</td>\n",
       "      <td>0.000000</td>\n",
       "    </tr>\n",
       "    <tr>\n",
       "      <th>50%</th>\n",
       "      <td>446.000000</td>\n",
       "      <td>0.000000</td>\n",
       "      <td>3.000000</td>\n",
       "      <td>28.000000</td>\n",
       "      <td>14.450000</td>\n",
       "      <td>1.000000</td>\n",
       "      <td>0.000000</td>\n",
       "    </tr>\n",
       "    <tr>\n",
       "      <th>75%</th>\n",
       "      <td>668.500000</td>\n",
       "      <td>1.000000</td>\n",
       "      <td>3.000000</td>\n",
       "      <td>38.000000</td>\n",
       "      <td>31.000000</td>\n",
       "      <td>2.000000</td>\n",
       "      <td>1.000000</td>\n",
       "    </tr>\n",
       "    <tr>\n",
       "      <th>max</th>\n",
       "      <td>891.000000</td>\n",
       "      <td>1.000000</td>\n",
       "      <td>3.000000</td>\n",
       "      <td>80.000000</td>\n",
       "      <td>512.330000</td>\n",
       "      <td>5.000000</td>\n",
       "      <td>10.000000</td>\n",
       "    </tr>\n",
       "  </tbody>\n",
       "</table>\n",
       "</div>"
      ],
      "text/plain": [
       "       PassengerId    Survived      Pclass         Age        Fare  \\\n",
       "count   891.000000  891.000000  891.000000  714.000000  891.000000   \n",
       "mean    446.000000    0.383838    2.308642   29.699118   32.204366   \n",
       "std     257.353842    0.486592    0.836071   14.526497   49.693414   \n",
       "min       1.000000    0.000000    1.000000    0.420000    0.000000   \n",
       "25%     223.500000    0.000000    2.000000   20.125000    7.910000   \n",
       "50%     446.000000    0.000000    3.000000   28.000000   14.450000   \n",
       "75%     668.500000    1.000000    3.000000   38.000000   31.000000   \n",
       "max     891.000000    1.000000    3.000000   80.000000  512.330000   \n",
       "\n",
       "            Title  FamilySize  \n",
       "count  890.000000  891.000000  \n",
       "mean     1.724719    0.904602  \n",
       "std      1.024753    1.613459  \n",
       "min      1.000000    0.000000  \n",
       "25%      1.000000    0.000000  \n",
       "50%      1.000000    0.000000  \n",
       "75%      2.000000    1.000000  \n",
       "max      5.000000   10.000000  "
      ]
     },
     "execution_count": 12,
     "metadata": {},
     "output_type": "execute_result"
    }
   ],
   "source": [
    "#to check out summary statistics of numeric columns so that we can better understand the central tendencies of the numeric data\n",
    "dataset.describe()"
   ]
  },
  {
   "cell_type": "markdown",
   "metadata": {},
   "source": [
    "Highlights from the results above:\n",
    "\n",
    "-The total number of samples is 891, which is 40% of the actual number of passengers on the Titanic (2,224).\n",
    "\n",
    "-PassengerId is an index column and is irrelevant in our model.\n",
    "\n",
    "-Survived is a categorical feature with a value of 0 or 1.\n",
    "\n",
    "-Pclass is also a categorical feature with a value of 1, 2 or 3.\n",
    "\n",
    "-More than 50% of passengers are classified as 3rd class.\n",
    "\n",
    "-The age column has some missing data because it is less than 891 (the number of passengers in this data set).\n",
    "\n",
    "-Fares vary widely, with less than 1% of passengers paying as much as US$512."
   ]
  },
  {
   "cell_type": "markdown",
   "metadata": {},
   "source": [
    "### Find mean, mode, median of Pclass column"
   ]
  },
  {
   "cell_type": "code",
   "execution_count": 13,
   "metadata": {},
   "outputs": [
    {
     "name": "stdout",
     "output_type": "stream",
     "text": [
      "Mode for Pclass column : 0    3\n",
      "dtype: int64\n"
     ]
    }
   ],
   "source": [
    "mode_pclass = dataset['Pclass'].mode()\n",
    "print(\"Mode for Pclass column :\", mode_pclass)"
   ]
  },
  {
   "cell_type": "code",
   "execution_count": 14,
   "metadata": {},
   "outputs": [
    {
     "name": "stdout",
     "output_type": "stream",
     "text": [
      "Median for Pclass column : 3.0\n"
     ]
    }
   ],
   "source": [
    "median_pclass = dataset['Pclass'].median()\n",
    "print(\"Median for Pclass column :\", median_pclass)"
   ]
  },
  {
   "cell_type": "code",
   "execution_count": 15,
   "metadata": {},
   "outputs": [
    {
     "name": "stdout",
     "output_type": "stream",
     "text": [
      "Mean for Pclass column : 2.308641975308642\n"
     ]
    }
   ],
   "source": [
    "average_pclass = dataset['Pclass'].mean()\n",
    "print(\"Mean for Pclass column :\", average_pclass)"
   ]
  },
  {
   "cell_type": "markdown",
   "metadata": {},
   "source": [
    "### Find mean, mode, median of Age column "
   ]
  },
  {
   "cell_type": "code",
   "execution_count": 16,
   "metadata": {},
   "outputs": [
    {
     "name": "stdout",
     "output_type": "stream",
     "text": [
      "Mode for Age column : 0    24.0\n",
      "dtype: float64\n"
     ]
    }
   ],
   "source": [
    "mode_age = dataset['Age'].mode()\n",
    "print(\"Mode for Age column :\", mode_age)"
   ]
  },
  {
   "cell_type": "code",
   "execution_count": 17,
   "metadata": {},
   "outputs": [
    {
     "name": "stdout",
     "output_type": "stream",
     "text": [
      "Mean for Age column : 29.69911764705882\n"
     ]
    }
   ],
   "source": [
    "average_age = dataset['Age'].mean()\n",
    "print(\"Mean for Age column :\", average_age)"
   ]
  },
  {
   "cell_type": "code",
   "execution_count": 18,
   "metadata": {},
   "outputs": [
    {
     "name": "stdout",
     "output_type": "stream",
     "text": [
      "Median for Age column : 28.0\n"
     ]
    }
   ],
   "source": [
    "median_age = dataset['Age'].median()\n",
    "print(\"Median for Age column :\", median_age)"
   ]
  },
  {
   "cell_type": "markdown",
   "metadata": {},
   "source": [
    "### Find mean, mode, median of Family Size ( SibSp + Parch)"
   ]
  },
  {
   "cell_type": "code",
   "execution_count": 19,
   "metadata": {
    "scrolled": true
   },
   "outputs": [
    {
     "name": "stdout",
     "output_type": "stream",
     "text": [
      "Mode for FamilySize column : 0    0\n",
      "dtype: int64\n"
     ]
    }
   ],
   "source": [
    "mode_familysize = dataset['FamilySize'].mode()\n",
    "print(\"Mode for FamilySize column :\", mode_familysize)"
   ]
  },
  {
   "cell_type": "code",
   "execution_count": 20,
   "metadata": {},
   "outputs": [
    {
     "name": "stdout",
     "output_type": "stream",
     "text": [
      "Median for FamilySize column : 0.0\n"
     ]
    }
   ],
   "source": [
    "median_familysize = dataset['FamilySize'].median()\n",
    "print(\"Median for FamilySize column :\", median_familysize)"
   ]
  },
  {
   "cell_type": "code",
   "execution_count": 21,
   "metadata": {},
   "outputs": [
    {
     "name": "stdout",
     "output_type": "stream",
     "text": [
      "Mean for FamilySize column : 0.9046015712682379\n"
     ]
    }
   ],
   "source": [
    "average_familysize = dataset['FamilySize'].mean()\n",
    "print(\"Mean for FamilySize column :\", average_familysize)"
   ]
  },
  {
   "cell_type": "markdown",
   "metadata": {},
   "source": [
    "### Find mean, mode, median of Fare "
   ]
  },
  {
   "cell_type": "code",
   "execution_count": 22,
   "metadata": {},
   "outputs": [
    {
     "name": "stdout",
     "output_type": "stream",
     "text": [
      "Mode for Fare column : 0    8.05\n",
      "dtype: float64\n"
     ]
    }
   ],
   "source": [
    "mode_fare = dataset['Fare'].mode()\n",
    "print(\"Mode for Fare column :\",mode_fare)"
   ]
  },
  {
   "cell_type": "code",
   "execution_count": 23,
   "metadata": {},
   "outputs": [
    {
     "name": "stdout",
     "output_type": "stream",
     "text": [
      "Median for Fare column : 14.45\n"
     ]
    }
   ],
   "source": [
    "median_fare = dataset['Fare'].median()\n",
    "print(\"Median for Fare column :\",median_fare)"
   ]
  },
  {
   "cell_type": "code",
   "execution_count": 24,
   "metadata": {},
   "outputs": [
    {
     "name": "stdout",
     "output_type": "stream",
     "text": [
      "Mean for Fare column : 32.2043658810325\n"
     ]
    }
   ],
   "source": [
    "average_fare = dataset['Fare'].mean()\n",
    "print(\"Mean for Fare column :\",average_fare)"
   ]
  },
  {
   "cell_type": "markdown",
   "metadata": {},
   "source": [
    "### Find mode of Embarked "
   ]
  },
  {
   "cell_type": "code",
   "execution_count": 25,
   "metadata": {},
   "outputs": [
    {
     "name": "stdout",
     "output_type": "stream",
     "text": [
      "Mode for Embarked 0    S\n",
      "dtype: object\n"
     ]
    }
   ],
   "source": [
    "mode_embarked = dataset['Embarked'].mode()\n",
    "print (\"Mode for Embarked\",mode_embarked)"
   ]
  },
  {
   "cell_type": "markdown",
   "metadata": {},
   "source": [
    "### Find mode of Sex"
   ]
  },
  {
   "cell_type": "code",
   "execution_count": 26,
   "metadata": {},
   "outputs": [
    {
     "name": "stdout",
     "output_type": "stream",
     "text": [
      "Mode for Sex 0    male\n",
      "dtype: object\n"
     ]
    }
   ],
   "source": [
    "mode_sex = dataset['Sex'].mode()\n",
    "print(\"Mode for Sex\", mode_sex)"
   ]
  },
  {
   "cell_type": "markdown",
   "metadata": {},
   "source": [
    "## Handling missing data"
   ]
  },
  {
   "cell_type": "code",
   "execution_count": 27,
   "metadata": {
    "scrolled": true
   },
   "outputs": [
    {
     "data": {
      "text/plain": [
       "PassengerId      0\n",
       "Survived         0\n",
       "Pclass           0\n",
       "Sex              0\n",
       "Age            177\n",
       "Ticket           0\n",
       "Fare             0\n",
       "Cabin          687\n",
       "Embarked         2\n",
       "Title            1\n",
       "FamilySize       0\n",
       "dtype: int64"
      ]
     },
     "execution_count": 27,
     "metadata": {},
     "output_type": "execute_result"
    }
   ],
   "source": [
    "#To see all missing values in each column and get a count\n",
    "dataset.isnull().sum()"
   ]
  },
  {
   "cell_type": "markdown",
   "metadata": {},
   "source": [
    "From the results above, we can observe that the cabin column has the most number of missing values at 687 followed by age with 177, embarked with 2 and lastly title with one. "
   ]
  },
  {
   "cell_type": "markdown",
   "metadata": {},
   "source": [
    "### Fill the Age missing values and fill in using MEAN \n",
    "We can also change the data type to int here after filling the 'NaN' values with mean."
   ]
  },
  {
   "cell_type": "code",
   "execution_count": 28,
   "metadata": {},
   "outputs": [],
   "source": [
    "#filling missing values\n",
    "dataset['Age'] = dataset['Age'].fillna(average_age)\n",
    "#convert the data type into integer\n",
    "dataset['Age'] = dataset['Age'].astype(int)"
   ]
  },
  {
   "cell_type": "markdown",
   "metadata": {},
   "source": [
    "### Drop Cabin feature"
   ]
  },
  {
   "cell_type": "code",
   "execution_count": 29,
   "metadata": {},
   "outputs": [],
   "source": [
    "#Since 687 Cabin values are missing, 687/891 which means 77.10% values are missing, we decided to drop it.\n",
    "dataset = dataset.drop(['Cabin'], axis = 1)"
   ]
  },
  {
   "cell_type": "markdown",
   "metadata": {},
   "source": [
    "### Fill the Embarked missing values with mode"
   ]
  },
  {
   "cell_type": "code",
   "execution_count": 30,
   "metadata": {},
   "outputs": [],
   "source": [
    "#filling missing values of the Embarked column with ‘S’\n",
    "dataset['Embarked'] = dataset['Embarked'].fillna('S')"
   ]
  },
  {
   "cell_type": "markdown",
   "metadata": {},
   "source": [
    "### Finding Title missing values"
   ]
  },
  {
   "cell_type": "code",
   "execution_count": 31,
   "metadata": {},
   "outputs": [
    {
     "data": {
      "text/html": [
       "<div>\n",
       "<style scoped>\n",
       "    .dataframe tbody tr th:only-of-type {\n",
       "        vertical-align: middle;\n",
       "    }\n",
       "\n",
       "    .dataframe tbody tr th {\n",
       "        vertical-align: top;\n",
       "    }\n",
       "\n",
       "    .dataframe thead th {\n",
       "        text-align: right;\n",
       "    }\n",
       "</style>\n",
       "<table border=\"1\" class=\"dataframe\">\n",
       "  <thead>\n",
       "    <tr style=\"text-align: right;\">\n",
       "      <th></th>\n",
       "      <th>PassengerId</th>\n",
       "      <th>Survived</th>\n",
       "      <th>Pclass</th>\n",
       "      <th>Sex</th>\n",
       "      <th>Age</th>\n",
       "      <th>Ticket</th>\n",
       "      <th>Fare</th>\n",
       "      <th>Embarked</th>\n",
       "      <th>Title</th>\n",
       "      <th>FamilySize</th>\n",
       "    </tr>\n",
       "  </thead>\n",
       "  <tbody>\n",
       "    <tr>\n",
       "      <th>759</th>\n",
       "      <td>760</td>\n",
       "      <td>1</td>\n",
       "      <td>1</td>\n",
       "      <td>female</td>\n",
       "      <td>33</td>\n",
       "      <td>110152</td>\n",
       "      <td>86.5</td>\n",
       "      <td>S</td>\n",
       "      <td>NaN</td>\n",
       "      <td>0</td>\n",
       "    </tr>\n",
       "  </tbody>\n",
       "</table>\n",
       "</div>"
      ],
      "text/plain": [
       "     PassengerId  Survived  Pclass     Sex  Age  Ticket  Fare Embarked  Title  \\\n",
       "759          760         1       1  female   33  110152  86.5        S    NaN   \n",
       "\n",
       "     FamilySize  \n",
       "759           0  "
      ]
     },
     "execution_count": 31,
     "metadata": {},
     "output_type": "execute_result"
    }
   ],
   "source": [
    "#Title column is checked for null value\n",
    "dataset[dataset['Title'].isnull()]"
   ]
  },
  {
   "cell_type": "markdown",
   "metadata": {},
   "source": [
    "The observation with the missing 'Title' is extracted. From here, given that the gender is female and she does not have family aboard, we can assign her the numeric value of 'Ms', which is 2."
   ]
  },
  {
   "cell_type": "code",
   "execution_count": 32,
   "metadata": {},
   "outputs": [],
   "source": [
    "#assigning missing value with numeric value of \"Ms\"\n",
    "dataset['Title'] = dataset['Title'].fillna('2')"
   ]
  },
  {
   "cell_type": "code",
   "execution_count": 33,
   "metadata": {},
   "outputs": [
    {
     "data": {
      "text/plain": [
       "PassengerId    0\n",
       "Survived       0\n",
       "Pclass         0\n",
       "Sex            0\n",
       "Age            0\n",
       "Ticket         0\n",
       "Fare           0\n",
       "Embarked       0\n",
       "Title          0\n",
       "FamilySize     0\n",
       "dtype: int64"
      ]
     },
     "metadata": {},
     "output_type": "display_data"
    }
   ],
   "source": [
    "#check if there is remaining missing value on dataset\n",
    "display(dataset.isnull().sum())"
   ]
  },
  {
   "cell_type": "markdown",
   "metadata": {},
   "source": [
    "### Handling the outliers"
   ]
  },
  {
   "cell_type": "markdown",
   "metadata": {},
   "source": [
    "Finding out which features have outliers through boxplot."
   ]
  },
  {
   "cell_type": "code",
   "execution_count": 34,
   "metadata": {},
   "outputs": [
    {
     "data": {
      "image/png": "[encoded data removed]",
      "text/plain": [
       "<Figure size 720x720 with 1 Axes>"
      ]
     },
     "metadata": {
      "needs_background": "light"
     },
     "output_type": "display_data"
    }
   ],
   "source": [
    "##numeric columns\n",
    "col = ['Survived', 'Pclass', 'Age', 'FamilySize', 'Fare']\n",
    "\n",
    "plt.figure(figsize=(10,10)) #set the size of figure\n",
    "dataset.boxplot(col) \n",
    "plt.show()\n"
   ]
  },
  {
   "cell_type": "markdown",
   "metadata": {},
   "source": [
    "Age, FamilySize and Fare has outliers."
   ]
  },
  {
   "cell_type": "code",
   "execution_count": 35,
   "metadata": {},
   "outputs": [
    {
     "name": "stdout",
     "output_type": "stream",
     "text": [
      "Maximum value of Age:  80\n",
      "Maximum value of FamilySize:  10\n"
     ]
    }
   ],
   "source": [
    "print('Maximum value of Age: ', dataset['Age'].max())\n",
    "print('Maximum value of FamilySize: ', dataset['FamilySize'].max())"
   ]
  },
  {
   "cell_type": "markdown",
   "metadata": {},
   "source": [
    "The two maximum values are fairly realistic, the outliers will not be touched. We have to handle the outliers of Fare and replace it with mean values."
   ]
  },
  {
   "cell_type": "code",
   "execution_count": 74,
   "metadata": {
    "scrolled": true
   },
   "outputs": [
    {
     "data": {
      "text/plain": [
       "<AxesSubplot:>"
      ]
     },
     "execution_count": 74,
     "metadata": {},
     "output_type": "execute_result"
    },
    {
     "data": {
      "image/png": "[encoded data removed]",
      "text/plain": [
       "<Figure size 1080x504 with 1 Axes>"
      ]
     },
     "metadata": {
      "needs_background": "light"
     },
     "output_type": "display_data"
    }
   ],
   "source": [
    "#Here we will remove the outliers\n",
    "#To handle the outliers for Fare\n",
    "def fareOutlier(col) :\n",
    "    for x in ['Fare']:\n",
    "        q3 = dataset['Fare'].quantile(0.75)\n",
    "        q1 = dataset['Fare'].quantile(0.25)\n",
    "        IQR = q3 - q1\n",
    "    \n",
    "        max = q3 + (1.5 * IQR)\n",
    "        min = q1 - (1.5 * IQR)\n",
    "    \n",
    "        dataset.loc[dataset[x] < min, x] = np.nan\n",
    "        dataset.loc[dataset[x] > max, x] = np.nan\n",
    "        \n",
    "    fare = dataset['Fare'].to_numpy()\n",
    "    if fare.any() > max or fare.any() < min:\n",
    "        fareOutlier(col)\n",
    "\n",
    "dataset.apply(lambda col: fareOutlier(col), axis = 0)\n",
    "mean_fare = dataset['Fare'].mean()\n",
    "\n",
    "dataset['Fare'] = dataset['Fare'].fillna(mean_fare)\n",
    "dataset['Fare'] = dataset['Fare'].round(2)\n",
    "\n",
    "#display the boxplot of fare after removing outliers with a set figure size\n",
    "dataset.boxplot(column=['Fare'], figsize=(15,7))"
   ]
  },
  {
   "cell_type": "markdown",
   "metadata": {},
   "source": [
    "Boxplot shows no more outliers"
   ]
  },
  {
   "cell_type": "markdown",
   "metadata": {},
   "source": [
    "## Understanding relationship and new insight through plots "
   ]
  },
  {
   "cell_type": "code",
   "execution_count": 37,
   "metadata": {},
   "outputs": [
    {
     "name": "stderr",
     "output_type": "stream",
     "text": [
      "C:\\ProgramData\\Anaconda3\\lib\\site-packages\\seaborn\\_decorators.py:36: FutureWarning: Pass the following variable as a keyword arg: x. From version 0.12, the only valid positional argument will be `data`, and passing other arguments without an explicit keyword will result in an error or misinterpretation.\n",
      "  warnings.warn(\n"
     ]
    },
    {
     "data": {
      "text/plain": [
       "0    549\n",
       "1    342\n",
       "Name: Survived, dtype: int64"
      ]
     },
     "execution_count": 37,
     "metadata": {},
     "output_type": "execute_result"
    },
    {
     "data": {
      "image/png": "[encoded data removed]",
      "text/plain": [
       "<Figure size 432x288 with 1 Axes>"
      ]
     },
     "metadata": {
      "needs_background": "light"
     },
     "output_type": "display_data"
    }
   ],
   "source": [
    "#In here, we will visualize the count of number of survivors\n",
    "sns.countplot(dataset['Survived'],label='Count')\n",
    "#Get a count of the number of survivors\n",
    "dataset['Survived'].value_counts()  "
   ]
  },
  {
   "cell_type": "markdown",
   "metadata": {},
   "source": [
    "The blue column with a value of 0 represents the number of deceased while the orange column with a value of 1 represents the number of survived. We can observe that there are more passengers that didn’t survive (549) than did (342)."
   ]
  },
  {
   "cell_type": "code",
   "execution_count": 38,
   "metadata": {
    "scrolled": false
   },
   "outputs": [
    {
     "name": "stderr",
     "output_type": "stream",
     "text": [
      "C:\\ProgramData\\Anaconda3\\lib\\site-packages\\seaborn\\_decorators.py:36: FutureWarning: Pass the following variable as a keyword arg: x. From version 0.12, the only valid positional argument will be `data`, and passing other arguments without an explicit keyword will result in an error or misinterpretation.\n",
      "  warnings.warn(\n",
      "C:\\ProgramData\\Anaconda3\\lib\\site-packages\\seaborn\\_decorators.py:36: FutureWarning: Pass the following variable as a keyword arg: x. From version 0.12, the only valid positional argument will be `data`, and passing other arguments without an explicit keyword will result in an error or misinterpretation.\n",
      "  warnings.warn(\n",
      "C:\\ProgramData\\Anaconda3\\lib\\site-packages\\seaborn\\_decorators.py:36: FutureWarning: Pass the following variable as a keyword arg: x. From version 0.12, the only valid positional argument will be `data`, and passing other arguments without an explicit keyword will result in an error or misinterpretation.\n",
      "  warnings.warn(\n",
      "C:\\ProgramData\\Anaconda3\\lib\\site-packages\\seaborn\\_decorators.py:36: FutureWarning: Pass the following variable as a keyword arg: x. From version 0.12, the only valid positional argument will be `data`, and passing other arguments without an explicit keyword will result in an error or misinterpretation.\n",
      "  warnings.warn(\n"
     ]
    },
    {
     "data": {
      "image/png": "[encoded data removed]",
      "text/plain": [
       "<Figure size 460.8x460.8 with 4 Axes>"
      ]
     },
     "metadata": {
      "needs_background": "light"
     },
     "output_type": "display_data"
    }
   ],
   "source": [
    "#In here, we will see the survival rate based on Pclass, Embarked, SibSp and Parch \n",
    "cols = ['Pclass', 'Embarked','FamilySize','Title']\n",
    "\n",
    "n_rows = 2\n",
    "n_cols = 2\n",
    "\n",
    "# The subplot grid and the figure size of each graph\n",
    "# This returns a Figure (fig) and an Axes Object (axs)\n",
    "fig, axs = plt.subplots(n_rows, n_cols, figsize=(n_cols*3.2,n_rows*3.2))\n",
    "\n",
    "for r in range(0,n_rows):\n",
    "    for c in range(0,n_cols):  \n",
    "        \n",
    "        i = r*n_cols+ c #index to go through the number of columns       \n",
    "        ax = axs[r][c] #Show where to position each subplot\n",
    "        sns.countplot(dataset[cols[i]], hue=dataset[\"Survived\"], ax=ax)  \n",
    "        ax.legend(title=\"survived\", loc='upper right') \n",
    "        \n",
    "plt.tight_layout()   #tight_layout"
   ]
  },
  {
   "cell_type": "markdown",
   "metadata": {},
   "source": [
    "1. In the graph of survival rate affected by social status(Pclass), shows that the upper social class (represent by column\"1\") have a higher survival rate than the other 2 social class of medium and low represented by column 2 and 3 respectively.\n",
    "\n",
    "2. in the graph of survival rate affected by embarked, it presents that passenger embarked on Chernobourg(C), have a higher survival rate compare to passengers embarked on Southampton(S) and Queenstown(Q).\n",
    "\n",
    "3. In the graph of survival rate affected by family size, it shows that passengers with 1 to 3 family members aboard have a higher survival rate compare to passengers with any other number of family members onboard.\n",
    "\n",
    "4. In the graph of survival rate affected by name titles, it shows that passengers with the title Ms. (2) and Mrs. (3) have a higher survival rate than others."
   ]
  },
  {
   "cell_type": "code",
   "execution_count": 39,
   "metadata": {},
   "outputs": [
    {
     "data": {
      "text/html": [
       "<div>\n",
       "<style scoped>\n",
       "    .dataframe tbody tr th:only-of-type {\n",
       "        vertical-align: middle;\n",
       "    }\n",
       "\n",
       "    .dataframe tbody tr th {\n",
       "        vertical-align: top;\n",
       "    }\n",
       "\n",
       "    .dataframe thead th {\n",
       "        text-align: right;\n",
       "    }\n",
       "</style>\n",
       "<table border=\"1\" class=\"dataframe\">\n",
       "  <thead>\n",
       "    <tr style=\"text-align: right;\">\n",
       "      <th></th>\n",
       "      <th>Survived</th>\n",
       "    </tr>\n",
       "    <tr>\n",
       "      <th>Sex</th>\n",
       "      <th></th>\n",
       "    </tr>\n",
       "  </thead>\n",
       "  <tbody>\n",
       "    <tr>\n",
       "      <th>female</th>\n",
       "      <td>0.742038</td>\n",
       "    </tr>\n",
       "    <tr>\n",
       "      <th>male</th>\n",
       "      <td>0.188908</td>\n",
       "    </tr>\n",
       "  </tbody>\n",
       "</table>\n",
       "</div>"
      ],
      "text/plain": [
       "        Survived\n",
       "Sex             \n",
       "female  0.742038\n",
       "male    0.188908"
      ]
     },
     "execution_count": 39,
     "metadata": {},
     "output_type": "execute_result"
    },
    {
     "data": {
      "image/png": "[encoded data removed]",
      "text/plain": [
       "<Figure size 432x288 with 1 Axes>"
      ]
     },
     "metadata": {
      "needs_background": "light"
     },
     "output_type": "display_data"
    }
   ],
   "source": [
    "#Plot the survival rate by sex\n",
    "sns.barplot(x='Sex', y='Survived', data=dataset)\n",
    "dataset.pivot_table('Survived',index='Sex')"
   ]
  },
  {
   "cell_type": "markdown",
   "metadata": {},
   "source": [
    "In the survival rates based on passenger's sex, it is found that female have a significantly higher survival rate of 74.2% over male, who has a 18.9% survival rate. This result indicates that the rescue operation did follow the rule of prioritizing the rescue of female first."
   ]
  },
  {
   "cell_type": "code",
   "execution_count": 40,
   "metadata": {},
   "outputs": [
    {
     "data": {
      "text/html": [
       "<div>\n",
       "<style scoped>\n",
       "    .dataframe tbody tr th:only-of-type {\n",
       "        vertical-align: middle;\n",
       "    }\n",
       "\n",
       "    .dataframe tbody tr th {\n",
       "        vertical-align: top;\n",
       "    }\n",
       "\n",
       "    .dataframe thead th {\n",
       "        text-align: right;\n",
       "    }\n",
       "</style>\n",
       "<table border=\"1\" class=\"dataframe\">\n",
       "  <thead>\n",
       "    <tr style=\"text-align: right;\">\n",
       "      <th></th>\n",
       "      <th>Survived</th>\n",
       "    </tr>\n",
       "    <tr>\n",
       "      <th>Pclass</th>\n",
       "      <th></th>\n",
       "    </tr>\n",
       "  </thead>\n",
       "  <tbody>\n",
       "    <tr>\n",
       "      <th>1</th>\n",
       "      <td>0.629630</td>\n",
       "    </tr>\n",
       "    <tr>\n",
       "      <th>2</th>\n",
       "      <td>0.472826</td>\n",
       "    </tr>\n",
       "    <tr>\n",
       "      <th>3</th>\n",
       "      <td>0.242363</td>\n",
       "    </tr>\n",
       "  </tbody>\n",
       "</table>\n",
       "</div>"
      ],
      "text/plain": [
       "        Survived\n",
       "Pclass          \n",
       "1       0.629630\n",
       "2       0.472826\n",
       "3       0.242363"
      ]
     },
     "execution_count": 40,
     "metadata": {},
     "output_type": "execute_result"
    },
    {
     "data": {
      "image/png": "[encoded data removed]",
      "text/plain": [
       "<Figure size 432x288 with 1 Axes>"
      ]
     },
     "metadata": {
      "needs_background": "light"
     },
     "output_type": "display_data"
    }
   ],
   "source": [
    "#Plot the survival rate by pclass\n",
    "sns.barplot(x='Pclass',y='Survived',data=dataset)\n",
    "dataset.pivot_table('Survived',index='Pclass')"
   ]
  },
  {
   "cell_type": "markdown",
   "metadata": {},
   "source": [
    "In the survival rates based on social class, it was found that the upper social class(1) have a highest survival rate of 62.9% followed in second by the medium class(2) with a survival rate of 47.3% and lastly, the lower class which has a low survival rate of 24.2%"
   ]
  },
  {
   "cell_type": "code",
   "execution_count": 41,
   "metadata": {
    "scrolled": true
   },
   "outputs": [
    {
     "data": {
      "text/html": [
       "<div>\n",
       "<style scoped>\n",
       "    .dataframe tbody tr th:only-of-type {\n",
       "        vertical-align: middle;\n",
       "    }\n",
       "\n",
       "    .dataframe tbody tr th {\n",
       "        vertical-align: top;\n",
       "    }\n",
       "\n",
       "    .dataframe thead th {\n",
       "        text-align: right;\n",
       "    }\n",
       "</style>\n",
       "<table border=\"1\" class=\"dataframe\">\n",
       "  <thead>\n",
       "    <tr style=\"text-align: right;\">\n",
       "      <th></th>\n",
       "      <th>Survived</th>\n",
       "    </tr>\n",
       "    <tr>\n",
       "      <th>AgeCategory</th>\n",
       "      <th></th>\n",
       "    </tr>\n",
       "  </thead>\n",
       "  <tbody>\n",
       "    <tr>\n",
       "      <th>Child</th>\n",
       "      <td>0.590361</td>\n",
       "    </tr>\n",
       "    <tr>\n",
       "      <th>Elderly</th>\n",
       "      <td>0.090909</td>\n",
       "    </tr>\n",
       "    <tr>\n",
       "      <th>Middle Age Adults</th>\n",
       "      <td>0.372624</td>\n",
       "    </tr>\n",
       "    <tr>\n",
       "      <th>Older Adults</th>\n",
       "      <td>0.396226</td>\n",
       "    </tr>\n",
       "    <tr>\n",
       "      <th>Youth</th>\n",
       "      <td>0.344037</td>\n",
       "    </tr>\n",
       "  </tbody>\n",
       "</table>\n",
       "</div>"
      ],
      "text/plain": [
       "                   Survived\n",
       "AgeCategory                \n",
       "Child              0.590361\n",
       "Elderly            0.090909\n",
       "Middle Age Adults  0.372624\n",
       "Older Adults       0.396226\n",
       "Youth              0.344037"
      ]
     },
     "execution_count": 41,
     "metadata": {},
     "output_type": "execute_result"
    },
    {
     "data": {
      "image/png": "[encoded data removed]",
      "text/plain": [
       "<Figure size 720x720 with 1 Axes>"
      ]
     },
     "metadata": {
      "needs_background": "light"
     },
     "output_type": "display_data"
    }
   ],
   "source": [
    "##Transforming 'Age' into category ranges\n",
    "def age_category (row):\n",
    "    if row['Age'] <= 15 :\n",
    "        return 'Child'\n",
    "    if row['Age'] > 15 and row['Age'] <= 25 :\n",
    "        return 'Youth'\n",
    "    if row['Age'] > 25 and row['Age'] <= 50 :\n",
    "        return 'Middle Age Adults'\n",
    "    if row['Age'] > 50 and row['Age'] <= 64 :\n",
    "        return 'Older Adults'\n",
    "    else:\n",
    "        return 'Elderly'\n",
    "\n",
    "dataset.apply(lambda row: age_category(row), axis = 1)\n",
    "\n",
    "dataset['AgeCategory'] = dataset.apply(lambda row: age_category(row), axis = 1)\n",
    "\n",
    "##Comparing 'AgeCategory' with survival rate\n",
    "plt.figure(figsize=(10,10))\n",
    "sns.barplot(x = 'AgeCategory', y = 'Survived', data = dataset)\n",
    "\n",
    "dataset.pivot_table('Survived',index='AgeCategory')"
   ]
  },
  {
   "cell_type": "markdown",
   "metadata": {},
   "source": [
    "In the survival rates based on age, it can be seen that children have the highest survival rate with 59%, followed in the order of older adults with 39.6%, middle age adults with 37.2%, youth with 34.4%, and lastly the elderly with only 9%."
   ]
  },
  {
   "cell_type": "markdown",
   "metadata": {},
   "source": [
    "### Frequency Distribution Table\n",
    "We will find out the age distribution as well to have a better understanding on the overall age range of the passengers on board the Titanic."
   ]
  },
  {
   "cell_type": "code",
   "execution_count": 42,
   "metadata": {},
   "outputs": [
    {
     "data": {
      "image/png": "[encoded data removed]",
      "text/plain": [
       "<Figure size 504x504 with 1 Axes>"
      ]
     },
     "metadata": {
      "needs_background": "light"
     },
     "output_type": "display_data"
    }
   ],
   "source": [
    "ages = dataset[dataset['Age'].notnull()]['Age'].values\n",
    "ages_hist = np.histogram(ages, bins=[0,10,20,30,40,50,60,70,80,90])\n",
    "\n",
    "ages_hist_labels = ['0–10', '11–20', '21–30', '31–40', '41–50', '51–60', '61–70', '71–80', '81–90']\n",
    "plt.figure(figsize=(7,7))\n",
    "plt.title('Age distribution')\n",
    "plt.bar(ages_hist_labels, ages_hist[0])\n",
    "plt.xlabel('Age')\n",
    "plt.ylabel('No. of passengers')\n",
    "for i, bin in zip(ages_hist[0], range(9)):\n",
    "    plt.text(bin, i+3, str(int(i)), fontsize=12,\n",
    "             horizontalalignment='center', verticalalignment='center')\n",
    "plt.show()"
   ]
  },
  {
   "cell_type": "markdown",
   "metadata": {},
   "source": [
    "From the plot above, we can see that the majority of passengers were aged between 20-29 with a total of 397 passengers, followed in second by the age range of 31-40 with 167 passengers. The 2 lowest age range of the passengers on board the titanic are 71-80 and 81-90 with 6 and 1 passengers respectively."
   ]
  },
  {
   "cell_type": "markdown",
   "metadata": {},
   "source": [
    "## Feature Extraction"
   ]
  },
  {
   "cell_type": "code",
   "execution_count": 43,
   "metadata": {},
   "outputs": [
    {
     "data": {
      "text/html": [
       "<div>\n",
       "<style scoped>\n",
       "    .dataframe tbody tr th:only-of-type {\n",
       "        vertical-align: middle;\n",
       "    }\n",
       "\n",
       "    .dataframe tbody tr th {\n",
       "        vertical-align: top;\n",
       "    }\n",
       "\n",
       "    .dataframe thead th {\n",
       "        text-align: right;\n",
       "    }\n",
       "</style>\n",
       "<table border=\"1\" class=\"dataframe\">\n",
       "  <thead>\n",
       "    <tr style=\"text-align: right;\">\n",
       "      <th></th>\n",
       "      <th>PassengerId</th>\n",
       "      <th>Survived</th>\n",
       "      <th>Pclass</th>\n",
       "      <th>Sex</th>\n",
       "      <th>Age</th>\n",
       "      <th>Ticket</th>\n",
       "      <th>Fare</th>\n",
       "      <th>Embarked</th>\n",
       "      <th>Title</th>\n",
       "      <th>FamilySize</th>\n",
       "      <th>AgeCategory</th>\n",
       "    </tr>\n",
       "  </thead>\n",
       "  <tbody>\n",
       "    <tr>\n",
       "      <th>0</th>\n",
       "      <td>1</td>\n",
       "      <td>0</td>\n",
       "      <td>3</td>\n",
       "      <td>male</td>\n",
       "      <td>22</td>\n",
       "      <td>A/5 21171</td>\n",
       "      <td>7.25</td>\n",
       "      <td>S</td>\n",
       "      <td>1</td>\n",
       "      <td>1</td>\n",
       "      <td>Youth</td>\n",
       "    </tr>\n",
       "    <tr>\n",
       "      <th>1</th>\n",
       "      <td>2</td>\n",
       "      <td>1</td>\n",
       "      <td>1</td>\n",
       "      <td>female</td>\n",
       "      <td>38</td>\n",
       "      <td>PC 17599</td>\n",
       "      <td>15.05</td>\n",
       "      <td>C</td>\n",
       "      <td>3</td>\n",
       "      <td>1</td>\n",
       "      <td>Middle Age Adults</td>\n",
       "    </tr>\n",
       "    <tr>\n",
       "      <th>2</th>\n",
       "      <td>3</td>\n",
       "      <td>1</td>\n",
       "      <td>3</td>\n",
       "      <td>female</td>\n",
       "      <td>26</td>\n",
       "      <td>STON/O2. 3101282</td>\n",
       "      <td>7.92</td>\n",
       "      <td>S</td>\n",
       "      <td>2</td>\n",
       "      <td>0</td>\n",
       "      <td>Middle Age Adults</td>\n",
       "    </tr>\n",
       "    <tr>\n",
       "      <th>3</th>\n",
       "      <td>4</td>\n",
       "      <td>1</td>\n",
       "      <td>1</td>\n",
       "      <td>female</td>\n",
       "      <td>35</td>\n",
       "      <td>113803</td>\n",
       "      <td>15.05</td>\n",
       "      <td>S</td>\n",
       "      <td>3</td>\n",
       "      <td>1</td>\n",
       "      <td>Middle Age Adults</td>\n",
       "    </tr>\n",
       "    <tr>\n",
       "      <th>4</th>\n",
       "      <td>5</td>\n",
       "      <td>0</td>\n",
       "      <td>3</td>\n",
       "      <td>male</td>\n",
       "      <td>35</td>\n",
       "      <td>373450</td>\n",
       "      <td>8.05</td>\n",
       "      <td>S</td>\n",
       "      <td>1</td>\n",
       "      <td>0</td>\n",
       "      <td>Middle Age Adults</td>\n",
       "    </tr>\n",
       "  </tbody>\n",
       "</table>\n",
       "</div>"
      ],
      "text/plain": [
       "   PassengerId  Survived  Pclass     Sex  Age            Ticket   Fare  \\\n",
       "0            1         0       3    male   22         A/5 21171   7.25   \n",
       "1            2         1       1  female   38          PC 17599  15.05   \n",
       "2            3         1       3  female   26  STON/O2. 3101282   7.92   \n",
       "3            4         1       1  female   35            113803  15.05   \n",
       "4            5         0       3    male   35            373450   8.05   \n",
       "\n",
       "  Embarked Title  FamilySize        AgeCategory  \n",
       "0        S     1           1              Youth  \n",
       "1        C     3           1  Middle Age Adults  \n",
       "2        S     2           0  Middle Age Adults  \n",
       "3        S     3           1  Middle Age Adults  \n",
       "4        S     1           0  Middle Age Adults  "
      ]
     },
     "execution_count": 43,
     "metadata": {},
     "output_type": "execute_result"
    }
   ],
   "source": [
    "#print the first five rows of the data in order to understand the contents\n",
    "dataset.head()"
   ]
  },
  {
   "cell_type": "markdown",
   "metadata": {},
   "source": [
    "### PassengerId"
   ]
  },
  {
   "cell_type": "markdown",
   "metadata": {},
   "source": [
    "Some columns are not used at all, such as 'PassengerId', 'Ticket'. We know PassengerId is unique to each passenger, so we can drop it."
   ]
  },
  {
   "cell_type": "code",
   "execution_count": 44,
   "metadata": {},
   "outputs": [],
   "source": [
    "##dropping the 'PassengerId' column\n",
    "dataset = dataset.drop(['PassengerId'], axis = 1)"
   ]
  },
  {
   "cell_type": "markdown",
   "metadata": {},
   "source": [
    "### Sex\n",
    "Associating each categorical value with binary value to better fit the model."
   ]
  },
  {
   "cell_type": "code",
   "execution_count": 45,
   "metadata": {},
   "outputs": [
    {
     "data": {
      "text/html": [
       "<div>\n",
       "<style scoped>\n",
       "    .dataframe tbody tr th:only-of-type {\n",
       "        vertical-align: middle;\n",
       "    }\n",
       "\n",
       "    .dataframe tbody tr th {\n",
       "        vertical-align: top;\n",
       "    }\n",
       "\n",
       "    .dataframe thead th {\n",
       "        text-align: right;\n",
       "    }\n",
       "</style>\n",
       "<table border=\"1\" class=\"dataframe\">\n",
       "  <thead>\n",
       "    <tr style=\"text-align: right;\">\n",
       "      <th></th>\n",
       "      <th>Survived</th>\n",
       "      <th>Pclass</th>\n",
       "      <th>Sex</th>\n",
       "      <th>Age</th>\n",
       "      <th>Ticket</th>\n",
       "      <th>Fare</th>\n",
       "      <th>Embarked</th>\n",
       "      <th>Title</th>\n",
       "      <th>FamilySize</th>\n",
       "      <th>AgeCategory</th>\n",
       "    </tr>\n",
       "  </thead>\n",
       "  <tbody>\n",
       "    <tr>\n",
       "      <th>0</th>\n",
       "      <td>0</td>\n",
       "      <td>3</td>\n",
       "      <td>0</td>\n",
       "      <td>22</td>\n",
       "      <td>A/5 21171</td>\n",
       "      <td>7.25</td>\n",
       "      <td>S</td>\n",
       "      <td>1</td>\n",
       "      <td>1</td>\n",
       "      <td>Youth</td>\n",
       "    </tr>\n",
       "    <tr>\n",
       "      <th>1</th>\n",
       "      <td>1</td>\n",
       "      <td>1</td>\n",
       "      <td>1</td>\n",
       "      <td>38</td>\n",
       "      <td>PC 17599</td>\n",
       "      <td>15.05</td>\n",
       "      <td>C</td>\n",
       "      <td>3</td>\n",
       "      <td>1</td>\n",
       "      <td>Middle Age Adults</td>\n",
       "    </tr>\n",
       "    <tr>\n",
       "      <th>2</th>\n",
       "      <td>1</td>\n",
       "      <td>3</td>\n",
       "      <td>1</td>\n",
       "      <td>26</td>\n",
       "      <td>STON/O2. 3101282</td>\n",
       "      <td>7.92</td>\n",
       "      <td>S</td>\n",
       "      <td>2</td>\n",
       "      <td>0</td>\n",
       "      <td>Middle Age Adults</td>\n",
       "    </tr>\n",
       "    <tr>\n",
       "      <th>3</th>\n",
       "      <td>1</td>\n",
       "      <td>1</td>\n",
       "      <td>1</td>\n",
       "      <td>35</td>\n",
       "      <td>113803</td>\n",
       "      <td>15.05</td>\n",
       "      <td>S</td>\n",
       "      <td>3</td>\n",
       "      <td>1</td>\n",
       "      <td>Middle Age Adults</td>\n",
       "    </tr>\n",
       "    <tr>\n",
       "      <th>4</th>\n",
       "      <td>0</td>\n",
       "      <td>3</td>\n",
       "      <td>0</td>\n",
       "      <td>35</td>\n",
       "      <td>373450</td>\n",
       "      <td>8.05</td>\n",
       "      <td>S</td>\n",
       "      <td>1</td>\n",
       "      <td>0</td>\n",
       "      <td>Middle Age Adults</td>\n",
       "    </tr>\n",
       "  </tbody>\n",
       "</table>\n",
       "</div>"
      ],
      "text/plain": [
       "   Survived  Pclass  Sex  Age            Ticket   Fare Embarked Title  \\\n",
       "0         0       3    0   22         A/5 21171   7.25        S     1   \n",
       "1         1       1    1   38          PC 17599  15.05        C     3   \n",
       "2         1       3    1   26  STON/O2. 3101282   7.92        S     2   \n",
       "3         1       1    1   35            113803  15.05        S     3   \n",
       "4         0       3    0   35            373450   8.05        S     1   \n",
       "\n",
       "   FamilySize        AgeCategory  \n",
       "0           1              Youth  \n",
       "1           1  Middle Age Adults  \n",
       "2           0  Middle Age Adults  \n",
       "3           1  Middle Age Adults  \n",
       "4           0  Middle Age Adults  "
      ]
     },
     "execution_count": 45,
     "metadata": {},
     "output_type": "execute_result"
    }
   ],
   "source": [
    "genders_no = {\"male\":0, \"female\":1}\n",
    "data = [dataset]\n",
    "\n",
    "for dataset1 in data:\n",
    "    dataset1['Sex'] = dataset1['Sex'].map(genders_no)\n",
    "    \n",
    "dataset.head()"
   ]
  },
  {
   "cell_type": "markdown",
   "metadata": {},
   "source": [
    "Just as the displayed result showed, the \"PassengerID\" column has been dropped and the Sex of passengers is now associated with binary value instead of categorical value."
   ]
  },
  {
   "cell_type": "markdown",
   "metadata": {},
   "source": [
    "### Ticket\n",
    "Checking unique values of the feature 'Ticket'."
   ]
  },
  {
   "cell_type": "code",
   "execution_count": 46,
   "metadata": {},
   "outputs": [
    {
     "data": {
      "text/plain": [
       "array(['A/5 21171', 'PC 17599', 'STON/O2. 3101282', '113803', '373450',\n",
       "       '330877', '17463', '349909', '347742', '237736', 'PP 9549',\n",
       "       '113783', 'A/5. 2151', '347082', '350406', '248706', '382652',\n",
       "       '244373', '345763', '2649', '239865', '248698', '330923', '113788',\n",
       "       '347077', '2631', '19950', '330959', '349216', 'PC 17601',\n",
       "       'PC 17569', '335677', 'C.A. 24579', 'PC 17604', '113789', '2677',\n",
       "       'A./5. 2152', '345764', '2651', '7546', '11668', '349253',\n",
       "       'SC/Paris 2123', '330958', 'S.C./A.4. 23567', '370371', '14311',\n",
       "       '2662', '349237', '3101295', 'A/4. 39886', 'PC 17572', '2926',\n",
       "       '113509', '19947', 'C.A. 31026', '2697', 'C.A. 34651', 'CA 2144',\n",
       "       '2669', '113572', '36973', '347088', 'PC 17605', '2661',\n",
       "       'C.A. 29395', 'S.P. 3464', '3101281', '315151', 'C.A. 33111',\n",
       "       'S.O.C. 14879', '2680', '1601', '348123', '349208', '374746',\n",
       "       '248738', '364516', '345767', '345779', '330932', '113059',\n",
       "       'SO/C 14885', '3101278', 'W./C. 6608', 'SOTON/OQ 392086', '343275',\n",
       "       '343276', '347466', 'W.E.P. 5734', 'C.A. 2315', '364500', '374910',\n",
       "       'PC 17754', 'PC 17759', '231919', '244367', '349245', '349215',\n",
       "       '35281', '7540', '3101276', '349207', '343120', '312991', '349249',\n",
       "       '371110', '110465', '2665', '324669', '4136', '2627',\n",
       "       'STON/O 2. 3101294', '370369', 'PC 17558', 'A4. 54510', '27267',\n",
       "       '370372', 'C 17369', '2668', '347061', '349241',\n",
       "       'SOTON/O.Q. 3101307', 'A/5. 3337', '228414', 'C.A. 29178',\n",
       "       'SC/PARIS 2133', '11752', '7534', 'PC 17593', '2678', '347081',\n",
       "       'STON/O2. 3101279', '365222', '231945', 'C.A. 33112', '350043',\n",
       "       '230080', '244310', 'S.O.P. 1166', '113776', 'A.5. 11206',\n",
       "       'A/5. 851', 'Fa 265302', 'PC 17597', '35851', 'SOTON/OQ 392090',\n",
       "       '315037', 'CA. 2343', '371362', 'C.A. 33595', '347068', '315093',\n",
       "       '363291', '113505', 'PC 17318', '111240', 'STON/O 2. 3101280',\n",
       "       '17764', '350404', '4133', 'PC 17595', '250653', 'LINE',\n",
       "       'SC/PARIS 2131', '230136', '315153', '113767', '370365', '111428',\n",
       "       '364849', '349247', '234604', '28424', '350046', 'PC 17610',\n",
       "       '368703', '4579', '370370', '248747', '345770', '3101264', '2628',\n",
       "       'A/5 3540', '347054', '2699', '367231', '112277',\n",
       "       'SOTON/O.Q. 3101311', 'F.C.C. 13528', 'A/5 21174', '250646',\n",
       "       '367229', '35273', 'STON/O2. 3101283', '243847', '11813',\n",
       "       'W/C 14208', 'SOTON/OQ 392089', '220367', '21440', '349234',\n",
       "       '19943', 'PP 4348', 'SW/PP 751', 'A/5 21173', '236171', '347067',\n",
       "       '237442', 'C.A. 29566', 'W./C. 6609', '26707', 'C.A. 31921',\n",
       "       '28665', 'SCO/W 1585', '367230', 'W./C. 14263',\n",
       "       'STON/O 2. 3101275', '2694', '19928', '347071', '250649', '11751',\n",
       "       '244252', '362316', '113514', 'A/5. 3336', '370129', '2650',\n",
       "       'PC 17585', '110152', 'PC 17755', '230433', '384461', '110413',\n",
       "       '112059', '382649', 'C.A. 17248', '347083', 'PC 17582', 'PC 17760',\n",
       "       '113798', '250644', 'PC 17596', '370375', '13502', '347073',\n",
       "       '239853', 'C.A. 2673', '336439', '347464', '345778', 'A/5. 10482',\n",
       "       '113056', '349239', '345774', '349206', '237798', '370373',\n",
       "       '19877', '11967', 'SC/Paris 2163', '349236', '349233', 'PC 17612',\n",
       "       '2693', '113781', '19988', '9234', '367226', '226593', 'A/5 2466',\n",
       "       '17421', 'PC 17758', 'P/PP 3381', 'PC 17485', '11767', 'PC 17608',\n",
       "       '250651', '349243', 'F.C.C. 13529', '347470', '29011', '36928',\n",
       "       '16966', 'A/5 21172', '349219', '234818', '345364', '28551',\n",
       "       '111361', '113043', 'PC 17611', '349225', '7598', '113784',\n",
       "       '248740', '244361', '229236', '248733', '31418', '386525',\n",
       "       'C.A. 37671', '315088', '7267', '113510', '2695', '2647', '345783',\n",
       "       '237671', '330931', '330980', 'SC/PARIS 2167', '2691',\n",
       "       'SOTON/O.Q. 3101310', 'C 7076', '110813', '2626', '14313',\n",
       "       'PC 17477', '11765', '3101267', '323951', 'C 7077', '113503',\n",
       "       '2648', '347069', 'PC 17757', '2653', 'STON/O 2. 3101293',\n",
       "       '349227', '27849', '367655', 'SC 1748', '113760', '350034',\n",
       "       '3101277', '350052', '350407', '28403', '244278', '240929',\n",
       "       'STON/O 2. 3101289', '341826', '4137', '315096', '28664', '347064',\n",
       "       '29106', '312992', '349222', '394140', 'STON/O 2. 3101269',\n",
       "       '343095', '28220', '250652', '28228', '345773', '349254',\n",
       "       'A/5. 13032', '315082', '347080', 'A/4. 34244', '2003', '250655',\n",
       "       '364851', 'SOTON/O.Q. 392078', '110564', '376564', 'SC/AH 3085',\n",
       "       'STON/O 2. 3101274', '13507', 'C.A. 18723', '345769', '347076',\n",
       "       '230434', '65306', '33638', '113794', '2666', '113786', '65303',\n",
       "       '113051', '17453', 'A/5 2817', '349240', '13509', '17464',\n",
       "       'F.C.C. 13531', '371060', '19952', '364506', '111320', '234360',\n",
       "       'A/S 2816', 'SOTON/O.Q. 3101306', '113792', '36209', '323592',\n",
       "       '315089', 'SC/AH Basle 541', '7553', '31027', '3460', '350060',\n",
       "       '3101298', '239854', 'A/5 3594', '4134', '11771', 'A.5. 18509',\n",
       "       '65304', 'SOTON/OQ 3101317', '113787', 'PC 17609', 'A/4 45380',\n",
       "       '36947', 'C.A. 6212', '350035', '315086', '364846', '330909',\n",
       "       '4135', '26360', '111427', 'C 4001', '382651', 'SOTON/OQ 3101316',\n",
       "       'PC 17473', 'PC 17603', '349209', '36967', 'C.A. 34260', '226875',\n",
       "       '349242', '12749', '349252', '2624', '2700', '367232',\n",
       "       'W./C. 14258', 'PC 17483', '3101296', '29104', '2641', '2690',\n",
       "       '315084', '113050', 'PC 17761', '364498', '13568', 'WE/P 5735',\n",
       "       '2908', '693', 'SC/PARIS 2146', '244358', '330979', '2620',\n",
       "       '347085', '113807', '11755', '345572', '372622', '349251',\n",
       "       '218629', 'SOTON/OQ 392082', 'SOTON/O.Q. 392087', 'A/4 48871',\n",
       "       '349205', '2686', '350417', 'S.W./PP 752', '11769', 'PC 17474',\n",
       "       '14312', 'A/4. 20589', '358585', '243880', '2689',\n",
       "       'STON/O 2. 3101286', '237789', '13049', '3411', '237565', '13567',\n",
       "       '14973', 'A./5. 3235', 'STON/O 2. 3101273', 'A/5 3902', '364848',\n",
       "       'SC/AH 29037', '248727', '2664', '349214', '113796', '364511',\n",
       "       '111426', '349910', '349246', '113804', 'SOTON/O.Q. 3101305',\n",
       "       '370377', '364512', '220845', '31028', '2659', '11753', '350029',\n",
       "       '54636', '36963', '219533', '349224', '334912', '27042', '347743',\n",
       "       '13214', '112052', '237668', 'STON/O 2. 3101292', '350050',\n",
       "       '349231', '13213', 'S.O./P.P. 751', 'CA. 2314', '349221', '8475',\n",
       "       '330919', '365226', '349223', '29751', '2623', '5727', '349210',\n",
       "       'STON/O 2. 3101285', '234686', '312993', 'A/5 3536', '19996',\n",
       "       '29750', 'F.C. 12750', 'C.A. 24580', '244270', '239856', '349912',\n",
       "       '342826', '4138', '330935', '6563', '349228', '350036', '24160',\n",
       "       '17474', '349256', '2672', '113800', '248731', '363592', '35852',\n",
       "       '348121', 'PC 17475', '36864', '350025', '223596', 'PC 17476',\n",
       "       'PC 17482', '113028', '7545', '250647', '348124', '34218', '36568',\n",
       "       '347062', '350048', '12233', '250643', '113806', '315094', '36866',\n",
       "       '236853', 'STON/O2. 3101271', '239855', '28425', '233639',\n",
       "       '349201', '349218', '16988', '376566', 'STON/O 2. 3101288',\n",
       "       '250648', '113773', '335097', '29103', '392096', '345780',\n",
       "       '349204', '350042', '29108', '363294', 'SOTON/O2 3101272', '2663',\n",
       "       '347074', '112379', '364850', '8471', '345781', '350047',\n",
       "       'S.O./P.P. 3', '2674', '29105', '347078', '383121', '36865',\n",
       "       '2687', '113501', 'W./C. 6607', 'SOTON/O.Q. 3101312', '374887',\n",
       "       '3101265', '12460', 'PC 17600', '349203', '28213', '17465',\n",
       "       '349244', '2685', '2625', '347089', '347063', '112050', '347087',\n",
       "       '248723', '3474', '28206', '364499', '112058', 'STON/O2. 3101290',\n",
       "       'S.C./PARIS 2079', 'C 7075', '315098', '19972', '368323', '367228',\n",
       "       '2671', '347468', '2223', 'PC 17756', '315097', '392092', '11774',\n",
       "       'SOTON/O2 3101287', '2683', '315090', 'C.A. 5547', '349213',\n",
       "       '347060', 'PC 17592', '392091', '113055', '2629', '350026',\n",
       "       '28134', '17466', '233866', '236852', 'SC/PARIS 2149', 'PC 17590',\n",
       "       '345777', '349248', '695', '345765', '2667', '349212', '349217',\n",
       "       '349257', '7552', 'C.A./SOTON 34068', 'SOTON/OQ 392076', '211536',\n",
       "       '112053', '111369', '370376'], dtype=object)"
      ]
     },
     "execution_count": 46,
     "metadata": {},
     "output_type": "execute_result"
    }
   ],
   "source": [
    "dataset['Ticket'].unique()"
   ]
  },
  {
   "cell_type": "markdown",
   "metadata": {},
   "source": [
    "As shown in the above display, there are too many unique ticket values, so we can drop it."
   ]
  },
  {
   "cell_type": "code",
   "execution_count": 47,
   "metadata": {},
   "outputs": [],
   "source": [
    "#dropping the 'Ticket' column\n",
    "dataset = dataset.drop(['Ticket'], axis = 1)"
   ]
  },
  {
   "cell_type": "markdown",
   "metadata": {},
   "source": [
    "### Embarked\n",
    "Associating categorical values with individual numerical values to better fit the model."
   ]
  },
  {
   "cell_type": "code",
   "execution_count": 48,
   "metadata": {},
   "outputs": [
    {
     "data": {
      "text/html": [
       "<div>\n",
       "<style scoped>\n",
       "    .dataframe tbody tr th:only-of-type {\n",
       "        vertical-align: middle;\n",
       "    }\n",
       "\n",
       "    .dataframe tbody tr th {\n",
       "        vertical-align: top;\n",
       "    }\n",
       "\n",
       "    .dataframe thead th {\n",
       "        text-align: right;\n",
       "    }\n",
       "</style>\n",
       "<table border=\"1\" class=\"dataframe\">\n",
       "  <thead>\n",
       "    <tr style=\"text-align: right;\">\n",
       "      <th></th>\n",
       "      <th>Survived</th>\n",
       "      <th>Pclass</th>\n",
       "      <th>Sex</th>\n",
       "      <th>Age</th>\n",
       "      <th>Fare</th>\n",
       "      <th>Embarked</th>\n",
       "      <th>Title</th>\n",
       "      <th>FamilySize</th>\n",
       "      <th>AgeCategory</th>\n",
       "    </tr>\n",
       "  </thead>\n",
       "  <tbody>\n",
       "    <tr>\n",
       "      <th>0</th>\n",
       "      <td>0</td>\n",
       "      <td>3</td>\n",
       "      <td>0</td>\n",
       "      <td>22</td>\n",
       "      <td>7.25</td>\n",
       "      <td>0</td>\n",
       "      <td>1</td>\n",
       "      <td>1</td>\n",
       "      <td>Youth</td>\n",
       "    </tr>\n",
       "    <tr>\n",
       "      <th>1</th>\n",
       "      <td>1</td>\n",
       "      <td>1</td>\n",
       "      <td>1</td>\n",
       "      <td>38</td>\n",
       "      <td>15.05</td>\n",
       "      <td>1</td>\n",
       "      <td>3</td>\n",
       "      <td>1</td>\n",
       "      <td>Middle Age Adults</td>\n",
       "    </tr>\n",
       "    <tr>\n",
       "      <th>2</th>\n",
       "      <td>1</td>\n",
       "      <td>3</td>\n",
       "      <td>1</td>\n",
       "      <td>26</td>\n",
       "      <td>7.92</td>\n",
       "      <td>0</td>\n",
       "      <td>2</td>\n",
       "      <td>0</td>\n",
       "      <td>Middle Age Adults</td>\n",
       "    </tr>\n",
       "    <tr>\n",
       "      <th>3</th>\n",
       "      <td>1</td>\n",
       "      <td>1</td>\n",
       "      <td>1</td>\n",
       "      <td>35</td>\n",
       "      <td>15.05</td>\n",
       "      <td>0</td>\n",
       "      <td>3</td>\n",
       "      <td>1</td>\n",
       "      <td>Middle Age Adults</td>\n",
       "    </tr>\n",
       "    <tr>\n",
       "      <th>4</th>\n",
       "      <td>0</td>\n",
       "      <td>3</td>\n",
       "      <td>0</td>\n",
       "      <td>35</td>\n",
       "      <td>8.05</td>\n",
       "      <td>0</td>\n",
       "      <td>1</td>\n",
       "      <td>0</td>\n",
       "      <td>Middle Age Adults</td>\n",
       "    </tr>\n",
       "  </tbody>\n",
       "</table>\n",
       "</div>"
      ],
      "text/plain": [
       "   Survived  Pclass  Sex  Age   Fare  Embarked Title  FamilySize  \\\n",
       "0         0       3    0   22   7.25         0     1           1   \n",
       "1         1       1    1   38  15.05         1     3           1   \n",
       "2         1       3    1   26   7.92         0     2           0   \n",
       "3         1       1    1   35  15.05         0     3           1   \n",
       "4         0       3    0   35   8.05         0     1           0   \n",
       "\n",
       "         AgeCategory  \n",
       "0              Youth  \n",
       "1  Middle Age Adults  \n",
       "2  Middle Age Adults  \n",
       "3  Middle Age Adults  \n",
       "4  Middle Age Adults  "
      ]
     },
     "execution_count": 48,
     "metadata": {},
     "output_type": "execute_result"
    }
   ],
   "source": [
    "port_no = {\"S\" : 0, \"C\" : 1, \"Q\" : 2} #Southampton(S):0, Chernobourg(C):1, Queenstown(Q):2\n",
    "data = [dataset]\n",
    "\n",
    "for dataset1 in data:\n",
    "    dataset1['Embarked'] = dataset1['Embarked'].map(port_no)\n",
    "    \n",
    "dataset.head()"
   ]
  },
  {
   "cell_type": "markdown",
   "metadata": {},
   "source": [
    "As the latest displayed result show, the \"Ticket column\" is no longer shown and the embarked ports are now represented by binary values instead of categorical value."
   ]
  },
  {
   "cell_type": "markdown",
   "metadata": {},
   "source": [
    "### AgeCategory\n",
    "Associating categorical values with individual numerical values to better fit the model."
   ]
  },
  {
   "cell_type": "code",
   "execution_count": 49,
   "metadata": {},
   "outputs": [
    {
     "data": {
      "text/plain": [
       "array(['Youth', 'Middle Age Adults', 'Older Adults', 'Child', 'Elderly'],\n",
       "      dtype=object)"
      ]
     },
     "execution_count": 49,
     "metadata": {},
     "output_type": "execute_result"
    }
   ],
   "source": [
    "##getting unique values\n",
    "dataset['AgeCategory'].unique()"
   ]
  },
  {
   "cell_type": "code",
   "execution_count": 50,
   "metadata": {},
   "outputs": [],
   "source": [
    "ageCategory_no = {\"Youth\" : 0, \"Middle Age Adults\" : 1, \"Older Adults\" : 2, \"Child\" : 3, \"Elderly\" : 4}\n",
    "data = [dataset]\n",
    "\n",
    "for dataset1 in data:\n",
    "    dataset1['AgeCategory'] = dataset1['AgeCategory'].map(ageCategory_no)"
   ]
  },
  {
   "cell_type": "code",
   "execution_count": 51,
   "metadata": {},
   "outputs": [
    {
     "data": {
      "text/plain": [
       "Survived         int64\n",
       "Pclass           int64\n",
       "Sex              int64\n",
       "Age              int32\n",
       "Fare           float64\n",
       "Embarked         int64\n",
       "Title           object\n",
       "FamilySize       int64\n",
       "AgeCategory      int64\n",
       "dtype: object"
      ]
     },
     "execution_count": 51,
     "metadata": {},
     "output_type": "execute_result"
    }
   ],
   "source": [
    "##checking datatypes to make sure all is numeric\n",
    "dataset.dtypes"
   ]
  },
  {
   "cell_type": "code",
   "execution_count": 52,
   "metadata": {},
   "outputs": [
    {
     "data": {
      "text/plain": [
       "Survived         int64\n",
       "Pclass           int64\n",
       "Sex              int64\n",
       "Age              int32\n",
       "Fare           float64\n",
       "Embarked         int64\n",
       "Title            int32\n",
       "FamilySize       int64\n",
       "AgeCategory      int64\n",
       "dtype: object"
      ]
     },
     "execution_count": 52,
     "metadata": {},
     "output_type": "execute_result"
    }
   ],
   "source": [
    "##changing object to numeric data type\n",
    "dataset['Title'] = dataset['Title'].astype(int)\n",
    "dataset.dtypes"
   ]
  },
  {
   "cell_type": "code",
   "execution_count": 53,
   "metadata": {},
   "outputs": [
    {
     "data": {
      "text/html": [
       "<div>\n",
       "<style scoped>\n",
       "    .dataframe tbody tr th:only-of-type {\n",
       "        vertical-align: middle;\n",
       "    }\n",
       "\n",
       "    .dataframe tbody tr th {\n",
       "        vertical-align: top;\n",
       "    }\n",
       "\n",
       "    .dataframe thead th {\n",
       "        text-align: right;\n",
       "    }\n",
       "</style>\n",
       "<table border=\"1\" class=\"dataframe\">\n",
       "  <thead>\n",
       "    <tr style=\"text-align: right;\">\n",
       "      <th></th>\n",
       "      <th>Survived</th>\n",
       "      <th>Pclass</th>\n",
       "      <th>Sex</th>\n",
       "      <th>Age</th>\n",
       "      <th>Fare</th>\n",
       "      <th>Embarked</th>\n",
       "      <th>Title</th>\n",
       "      <th>FamilySize</th>\n",
       "      <th>AgeCategory</th>\n",
       "    </tr>\n",
       "  </thead>\n",
       "  <tbody>\n",
       "    <tr>\n",
       "      <th>0</th>\n",
       "      <td>0</td>\n",
       "      <td>3</td>\n",
       "      <td>0</td>\n",
       "      <td>22</td>\n",
       "      <td>7.25</td>\n",
       "      <td>0</td>\n",
       "      <td>1</td>\n",
       "      <td>1</td>\n",
       "      <td>0</td>\n",
       "    </tr>\n",
       "    <tr>\n",
       "      <th>1</th>\n",
       "      <td>1</td>\n",
       "      <td>1</td>\n",
       "      <td>1</td>\n",
       "      <td>38</td>\n",
       "      <td>15.05</td>\n",
       "      <td>1</td>\n",
       "      <td>3</td>\n",
       "      <td>1</td>\n",
       "      <td>1</td>\n",
       "    </tr>\n",
       "    <tr>\n",
       "      <th>2</th>\n",
       "      <td>1</td>\n",
       "      <td>3</td>\n",
       "      <td>1</td>\n",
       "      <td>26</td>\n",
       "      <td>7.92</td>\n",
       "      <td>0</td>\n",
       "      <td>2</td>\n",
       "      <td>0</td>\n",
       "      <td>1</td>\n",
       "    </tr>\n",
       "    <tr>\n",
       "      <th>3</th>\n",
       "      <td>1</td>\n",
       "      <td>1</td>\n",
       "      <td>1</td>\n",
       "      <td>35</td>\n",
       "      <td>15.05</td>\n",
       "      <td>0</td>\n",
       "      <td>3</td>\n",
       "      <td>1</td>\n",
       "      <td>1</td>\n",
       "    </tr>\n",
       "    <tr>\n",
       "      <th>4</th>\n",
       "      <td>0</td>\n",
       "      <td>3</td>\n",
       "      <td>0</td>\n",
       "      <td>35</td>\n",
       "      <td>8.05</td>\n",
       "      <td>0</td>\n",
       "      <td>1</td>\n",
       "      <td>0</td>\n",
       "      <td>1</td>\n",
       "    </tr>\n",
       "  </tbody>\n",
       "</table>\n",
       "</div>"
      ],
      "text/plain": [
       "   Survived  Pclass  Sex  Age   Fare  Embarked  Title  FamilySize  AgeCategory\n",
       "0         0       3    0   22   7.25         0      1           1            0\n",
       "1         1       1    1   38  15.05         1      3           1            1\n",
       "2         1       3    1   26   7.92         0      2           0            1\n",
       "3         1       1    1   35  15.05         0      3           1            1\n",
       "4         0       3    0   35   8.05         0      1           0            1"
      ]
     },
     "execution_count": 53,
     "metadata": {},
     "output_type": "execute_result"
    }
   ],
   "source": [
    "##final dataset\n",
    "dataset.head()"
   ]
  },
  {
   "cell_type": "markdown",
   "metadata": {},
   "source": [
    "As shown in display, age category is now represented with numerical value instead of categorical value."
   ]
  },
  {
   "cell_type": "markdown",
   "metadata": {},
   "source": [
    "## Feature Selection"
   ]
  },
  {
   "cell_type": "markdown",
   "metadata": {},
   "source": [
    "To prevent model overfitting, we only select the features that are most likely to have a considerable influence over whether the passenger will survive. This can be done through finding feature importance through Random Forest classifier."
   ]
  },
  {
   "cell_type": "code",
   "execution_count": 54,
   "metadata": {},
   "outputs": [
    {
     "data": {
      "text/plain": [
       "Text(0, 0.5, 'Feature')"
      ]
     },
     "execution_count": 54,
     "metadata": {},
     "output_type": "execute_result"
    },
    {
     "data": {
      "image/png": "[encoded data removed]",
      "text/plain": [
       "<Figure size 432x288 with 1 Axes>"
      ]
     },
     "metadata": {
      "needs_background": "light"
     },
     "output_type": "display_data"
    }
   ],
   "source": [
    "##Feature importance through Random Forest\n",
    "X_fit = dataset.drop(['Survived'], axis = 1)\n",
    "Y_fit = dataset['Survived']\n",
    "forest = RandomForestClassifier(n_estimators=50, random_state=0)\n",
    "forest.fit(X_fit, Y_fit) #build a forest of trees from the training set\n",
    "\n",
    "feat_importances = pd.Series(forest.feature_importances_, index=X_fit.columns)\n",
    "feat_importances.nlargest(8).plot(kind='barh')\n",
    "plt.xlabel('Feature Importance')\n",
    "plt.ylabel('Feature')"
   ]
  },
  {
   "cell_type": "markdown",
   "metadata": {},
   "source": [
    "Both 'Sex' and 'Title' represents gender but 'Title' also implies marital and social status. From the bar plot, it has more importance over 'Sex', so the 'Sex' feature can be dropped to prevent overfitting.\n",
    "Additionally, 'Age' seems to predominate 'AgeCategory' in terms of feature importance. Hence, 'AgeCategory' will be dropped as well."
   ]
  },
  {
   "cell_type": "code",
   "execution_count": 55,
   "metadata": {},
   "outputs": [
    {
     "data": {
      "text/html": [
       "<div>\n",
       "<style scoped>\n",
       "    .dataframe tbody tr th:only-of-type {\n",
       "        vertical-align: middle;\n",
       "    }\n",
       "\n",
       "    .dataframe tbody tr th {\n",
       "        vertical-align: top;\n",
       "    }\n",
       "\n",
       "    .dataframe thead th {\n",
       "        text-align: right;\n",
       "    }\n",
       "</style>\n",
       "<table border=\"1\" class=\"dataframe\">\n",
       "  <thead>\n",
       "    <tr style=\"text-align: right;\">\n",
       "      <th></th>\n",
       "      <th>Survived</th>\n",
       "      <th>Pclass</th>\n",
       "      <th>Age</th>\n",
       "      <th>Fare</th>\n",
       "      <th>Embarked</th>\n",
       "      <th>Title</th>\n",
       "      <th>FamilySize</th>\n",
       "    </tr>\n",
       "  </thead>\n",
       "  <tbody>\n",
       "    <tr>\n",
       "      <th>0</th>\n",
       "      <td>0</td>\n",
       "      <td>3</td>\n",
       "      <td>22</td>\n",
       "      <td>7.25</td>\n",
       "      <td>0</td>\n",
       "      <td>1</td>\n",
       "      <td>1</td>\n",
       "    </tr>\n",
       "    <tr>\n",
       "      <th>1</th>\n",
       "      <td>1</td>\n",
       "      <td>1</td>\n",
       "      <td>38</td>\n",
       "      <td>15.05</td>\n",
       "      <td>1</td>\n",
       "      <td>3</td>\n",
       "      <td>1</td>\n",
       "    </tr>\n",
       "    <tr>\n",
       "      <th>2</th>\n",
       "      <td>1</td>\n",
       "      <td>3</td>\n",
       "      <td>26</td>\n",
       "      <td>7.92</td>\n",
       "      <td>0</td>\n",
       "      <td>2</td>\n",
       "      <td>0</td>\n",
       "    </tr>\n",
       "    <tr>\n",
       "      <th>3</th>\n",
       "      <td>1</td>\n",
       "      <td>1</td>\n",
       "      <td>35</td>\n",
       "      <td>15.05</td>\n",
       "      <td>0</td>\n",
       "      <td>3</td>\n",
       "      <td>1</td>\n",
       "    </tr>\n",
       "    <tr>\n",
       "      <th>4</th>\n",
       "      <td>0</td>\n",
       "      <td>3</td>\n",
       "      <td>35</td>\n",
       "      <td>8.05</td>\n",
       "      <td>0</td>\n",
       "      <td>1</td>\n",
       "      <td>0</td>\n",
       "    </tr>\n",
       "  </tbody>\n",
       "</table>\n",
       "</div>"
      ],
      "text/plain": [
       "   Survived  Pclass  Age   Fare  Embarked  Title  FamilySize\n",
       "0         0       3   22   7.25         0      1           1\n",
       "1         1       1   38  15.05         1      3           1\n",
       "2         1       3   26   7.92         0      2           0\n",
       "3         1       1   35  15.05         0      3           1\n",
       "4         0       3   35   8.05         0      1           0"
      ]
     },
     "execution_count": 55,
     "metadata": {},
     "output_type": "execute_result"
    }
   ],
   "source": [
    "#dropping the 'Sex' column\n",
    "dataset = dataset.drop(['Sex'], axis = 1) \n",
    "#dropping the 'AgeCategory' column\n",
    "dataset = dataset.drop(['AgeCategory'], axis = 1) \n",
    "#display the first five rows to make sure that the 'Sex' and 'AgeCategory' column are dropped\n",
    "dataset.head() "
   ]
  },
  {
   "cell_type": "markdown",
   "metadata": {},
   "source": [
    "As shown in display, \"Sex\" and \"AgeCategory\" has been dropped due to being less important."
   ]
  },
  {
   "cell_type": "markdown",
   "metadata": {},
   "source": [
    "## Model Development\n",
    "\n",
    "Here we will be attempting to develop a model that is tested and built upon our desired criteria that provide the best possible outcome.\n",
    "\n",
    "### Algorithms and Model Selection\n",
    "The following algorithms and models will be fitted with the Titanic dataset:\n",
    "- Decision Tree\n",
    "- Random Forest\n",
    "- Naive Bayes\n",
    "- Support Vector Machine(SVM)\n",
    "- Logistic Regression"
   ]
  },
  {
   "cell_type": "markdown",
   "metadata": {},
   "source": [
    "### Model Fitting\n",
    "First the dataset is split into training and testing subsets. 60% will be used to train the models and the remaining 40% will be used to test the models."
   ]
  },
  {
   "cell_type": "code",
   "execution_count": 56,
   "metadata": {},
   "outputs": [],
   "source": [
    "##MACHINE LEARNING\n",
    "##Splitting\n",
    "X = dataset.drop(['Survived'], axis = 1)\n",
    "Y = dataset['Survived']\n",
    "X_train, X_test, y_train, y_test = train_test_split(X, Y, test_size = 0.4, random_state=5)\n",
    "\n",
    "#test_size = 0.4: 40% of the data will go for test set\n",
    "#random_state=5: ensures that the splits that we generate are reproducible"
   ]
  },
  {
   "cell_type": "markdown",
   "metadata": {},
   "source": [
    "Now, the models can be fitted with the data."
   ]
  },
  {
   "cell_type": "markdown",
   "metadata": {},
   "source": [
    "#### Decision Tree"
   ]
  },
  {
   "cell_type": "code",
   "execution_count": 57,
   "metadata": {},
   "outputs": [
    {
     "data": {
      "text/plain": [
       "DecisionTreeClassifier(max_depth=3)"
      ]
     },
     "execution_count": 57,
     "metadata": {},
     "output_type": "execute_result"
    }
   ],
   "source": [
    "##DecisionTree\n",
    "##loading classifier\n",
    "clf = tree.DecisionTreeClassifier(max_depth = 3) #here we set the maximum depth of the decision tree\n",
    "##fitting\n",
    "clf.fit(X_train,y_train)"
   ]
  },
  {
   "cell_type": "markdown",
   "metadata": {},
   "source": [
    "#### Random Forest"
   ]
  },
  {
   "cell_type": "code",
   "execution_count": 58,
   "metadata": {},
   "outputs": [
    {
     "data": {
      "text/plain": [
       "RandomForestClassifier(n_estimators=50, random_state=0)"
      ]
     },
     "execution_count": 58,
     "metadata": {},
     "output_type": "execute_result"
    }
   ],
   "source": [
    "##Random Forest\n",
    "##loading classifier\n",
    "rf = RandomForestClassifier(n_estimators=50, random_state=0) #setting the number of trees in the forest to 50\n",
    "##fitting it into the model\n",
    "rf.fit(X_train, y_train)"
   ]
  },
  {
   "cell_type": "markdown",
   "metadata": {},
   "source": [
    "#### Naive Bayes"
   ]
  },
  {
   "cell_type": "code",
   "execution_count": 59,
   "metadata": {},
   "outputs": [],
   "source": [
    "##Naive Bayes\n",
    "from sklearn.naive_bayes import GaussianNB #import algorithm\n",
    "##loading classifier\n",
    "gnb = GaussianNB()\n",
    "##fitting\n",
    "model = gnb.fit(X_train, y_train)"
   ]
  },
  {
   "cell_type": "markdown",
   "metadata": {},
   "source": [
    "#### SVM"
   ]
  },
  {
   "cell_type": "code",
   "execution_count": 60,
   "metadata": {},
   "outputs": [
    {
     "data": {
      "text/plain": [
       "SVC(gamma='auto')"
      ]
     },
     "execution_count": 60,
     "metadata": {},
     "output_type": "execute_result"
    }
   ],
   "source": [
    "##SVM\n",
    "##loading classifier\n",
    "svm_clf = SVC(gamma = 'auto')\n",
    "##fitting\n",
    "svm_clf.fit(X_train, y_train)\n"
   ]
  },
  {
   "cell_type": "markdown",
   "metadata": {},
   "source": [
    "#### Logistic Regression"
   ]
  },
  {
   "cell_type": "code",
   "execution_count": 61,
   "metadata": {},
   "outputs": [
    {
     "data": {
      "text/plain": [
       "LogisticRegression(C=75, solver='liblinear')"
      ]
     },
     "execution_count": 61,
     "metadata": {},
     "output_type": "execute_result"
    }
   ],
   "source": [
    "##Logistic Regression\n",
    "##loading classifier\n",
    "lr_clf = linear_model.LogisticRegression(solver='liblinear', C=75)\n",
    "##fitting\n",
    "lr_clf.fit(X_train, y_train)"
   ]
  },
  {
   "cell_type": "markdown",
   "metadata": {},
   "source": [
    "### Model Validation (Training subset)\n",
    "The models' accuracy will be tested based on the training subset. "
   ]
  },
  {
   "cell_type": "markdown",
   "metadata": {},
   "source": [
    "#### Decision Tree"
   ]
  },
  {
   "cell_type": "code",
   "execution_count": 62,
   "metadata": {},
   "outputs": [
    {
     "name": "stdout",
     "output_type": "stream",
     "text": [
      "Decision Tree Accuracy on training subset:  0.8183520599250936\n"
     ]
    }
   ],
   "source": [
    "#finding the training accuracy of Decision Tree\n",
    "tree_score = clf.score(X_train, y_train) \n",
    "print('Decision Tree Accuracy on training subset: ', format(tree_score))"
   ]
  },
  {
   "cell_type": "markdown",
   "metadata": {},
   "source": [
    "#### Random Forest"
   ]
  },
  {
   "cell_type": "code",
   "execution_count": 63,
   "metadata": {},
   "outputs": [
    {
     "name": "stdout",
     "output_type": "stream",
     "text": [
      "Random Forest Accuracy on the training subset:  0.9812734082397003\n"
     ]
    }
   ],
   "source": [
    "#finding the training accuracy of Random Forest\n",
    "forest_score = rf.score(X_train, y_train)\n",
    "print('Random Forest Accuracy on the training subset: ', format(forest_score))"
   ]
  },
  {
   "cell_type": "markdown",
   "metadata": {},
   "source": [
    "#### Naive Bayes"
   ]
  },
  {
   "cell_type": "code",
   "execution_count": 64,
   "metadata": {},
   "outputs": [
    {
     "name": "stdout",
     "output_type": "stream",
     "text": [
      "Naive Bayes Accuracy on the training subset:  0.7584269662921348\n"
     ]
    }
   ],
   "source": [
    "#finding the training accuracy of Naive Bayes\n",
    "gnb_score = gnb.score(X_train, y_train)\n",
    "print('Naive Bayes Accuracy on the training subset: ', format(gnb_score))"
   ]
  },
  {
   "cell_type": "markdown",
   "metadata": {},
   "source": [
    "#### SVM"
   ]
  },
  {
   "cell_type": "code",
   "execution_count": 65,
   "metadata": {},
   "outputs": [
    {
     "name": "stdout",
     "output_type": "stream",
     "text": [
      "SVM Accuracy on the training subset:  0.9138576779026217\n"
     ]
    }
   ],
   "source": [
    "#finding the training accuracy of Support Vector Machine\n",
    "svm_score = svm_clf.score(X_train, y_train)\n",
    "print('SVM Accuracy on the training subset: ', format(svm_score))"
   ]
  },
  {
   "cell_type": "markdown",
   "metadata": {},
   "source": [
    "#### Logistic Regression"
   ]
  },
  {
   "cell_type": "code",
   "execution_count": 66,
   "metadata": {},
   "outputs": [
    {
     "name": "stdout",
     "output_type": "stream",
     "text": [
      "Logistic Regression Accuracy on the training subset:  0.7752808988764045\n"
     ]
    }
   ],
   "source": [
    "#finding the training accuracy of Logistic Regression\n",
    "lr_score = lr_clf.score(X_train, y_train)\n",
    "print('Logistic Regression Accuracy on the training subset: ', format(lr_score))"
   ]
  },
  {
   "cell_type": "markdown",
   "metadata": {},
   "source": [
    "## Visualization\n",
    "\n",
    "In this step we will be attempting to create visuals and graphical representation of data for easier and better understanding\n",
    "### Decision Tree\n",
    "The Decision Tree can be visualized to display how the decision tree model makes its decision."
   ]
  },
  {
   "cell_type": "code",
   "execution_count": 67,
   "metadata": {},
   "outputs": [
    {
     "data": {
      "text/plain": [
       "True"
      ]
     },
     "execution_count": 67,
     "metadata": {},
     "output_type": "execute_result"
    }
   ],
   "source": [
    "data_feature_names = X.columns\n",
    "##visualizing the decision tree\n",
    "dot_data = tree.export_graphviz(clf,feature_names=data_feature_names,class_names = ['Dead', 'Survived'],\n",
    "                                out_file=None,max_depth = 4,filled=True,rounded=True)\n",
    "graph = pydotplus.graph_from_dot_data(dot_data)\n",
    "colors = ('orange', 'yellow')\n",
    "edges = collections.defaultdict(list)\n",
    "\n",
    "for edge in graph.get_edge_list():edges[edge.get_source()].append(int(edge.get_destination()))\n",
    "for edge in edges: edges[edge].sort()\n",
    "for i in range(2):dest = graph.get_node(str(edges[edge][i]))[0]\n",
    "\n",
    "dest.set_fillcolor(colors[i])\n",
    "graph.write_png('DecisiontreeDSPAssignment.png')"
   ]
  },
  {
   "cell_type": "code",
   "execution_count": 68,
   "metadata": {},
   "outputs": [
    {
     "data": {
      "image/png": "[encoded data removed]",
      "text/plain": [
       "<IPython.core.display.Image object>"
      ]
     },
     "execution_count": 68,
     "metadata": {
      "image/png": {
       "height": 500,
       "width": 500
      }
     },
     "output_type": "execute_result"
    }
   ],
   "source": [
    "from IPython.display import Image\n",
    "Image(filename=r\"C:\\Users\\janey\\OneDrive\\Desktop\\Uni\\Sem 3\\Data Science Principles\\Grp Assignment\\DecisiontreeDSPAssignment.png\",width=500,height=500)"
   ]
  },
  {
   "cell_type": "markdown",
   "metadata": {},
   "source": [
    "In the decision tree diagram, the root starts with \"Title <= 1.5\". Title values that are less than 1.5 refer to male."
   ]
  },
  {
   "cell_type": "markdown",
   "metadata": {},
   "source": [
    "### Random Forest\n",
    "The feature importance can be seen using random forest's feature importance bar plot."
   ]
  },
  {
   "cell_type": "code",
   "execution_count": 69,
   "metadata": {},
   "outputs": [
    {
     "data": {
      "text/plain": [
       "Text(0, 0.5, 'Feature')"
      ]
     },
     "execution_count": 69,
     "metadata": {},
     "output_type": "execute_result"
    },
    {
     "data": {
      "image/png": "[encoded data removed]",
      "text/plain": [
       "<Figure size 432x288 with 1 Axes>"
      ]
     },
     "metadata": {
      "needs_background": "light"
     },
     "output_type": "display_data"
    }
   ],
   "source": [
    "##plotting and visualize\n",
    "##random forest has the feature_importance \n",
    "##to provide a better view of feature weight than the decision tree\n",
    "feat_importances = pd.Series(rf.feature_importances_, index=X.columns) #load the feature importances into a pandas series indexed by your column names\n",
    "feat_importances.nlargest(7).plot(kind='barh') #use its plot method\n",
    "plt.xlabel('Feature Importance')\n",
    "plt.ylabel('Feature')"
   ]
  },
  {
   "cell_type": "markdown",
   "metadata": {},
   "source": [
    "Now, 'Title' carries the feature importance, which coincides with the Decision Tree's root in the diagram. This means that the most important feature is 'Title'."
   ]
  },
  {
   "cell_type": "markdown",
   "metadata": {},
   "source": [
    "### Determining the best method\n",
    "A bar plot can be drawn for all the cross-validation scores of each model."
   ]
  },
  {
   "cell_type": "code",
   "execution_count": 70,
   "metadata": {},
   "outputs": [
    {
     "data": {
      "text/plain": [
       "<AxesSubplot:xlabel='Score', ylabel='Model'>"
      ]
     },
     "execution_count": 70,
     "metadata": {},
     "output_type": "execute_result"
    },
    {
     "data": {
      "image/png": "[encoded data removed]",
      "text/plain": [
       "<Figure size 432x288 with 1 Axes>"
      ]
     },
     "metadata": {
      "needs_background": "light"
     },
     "output_type": "display_data"
    }
   ],
   "source": [
    "#adding all previous used algorithms and models to find the best one of them which will have the highest score \n",
    "results = pd.DataFrame({\n",
    "    'Model': ['Support Vector Machines', 'Logistic Regression', \n",
    "              'Random Forest', 'Naive Bayes', \n",
    "              'Decision Tree'],\n",
    "    'Score': [svm_score, lr_score, forest_score, gnb_score, tree_score]})\n",
    "\n",
    "sns.barplot(x = 'Score', y = 'Model', data = results, order=results.sort_values('Score').Model)\n"
   ]
  },
  {
   "cell_type": "markdown",
   "metadata": {},
   "source": [
    "From the bar plot, Random Forest has the highest score. Thus, it will be used with the testing subset."
   ]
  },
  {
   "cell_type": "markdown",
   "metadata": {},
   "source": [
    "## Deploy and Maintain\n",
    "### Testing Random Forest model with testing subset"
   ]
  },
  {
   "cell_type": "code",
   "execution_count": 71,
   "metadata": {},
   "outputs": [],
   "source": [
    "forest_test_score = rf.score(X_test, y_test)"
   ]
  },
  {
   "cell_type": "markdown",
   "metadata": {},
   "source": [
    "### Validation\n",
    "We will use cross-validation score as well as visualize a confusion matrix."
   ]
  },
  {
   "cell_type": "markdown",
   "metadata": {},
   "source": [
    "#### Cross-Validation Score and Accuracy"
   ]
  },
  {
   "cell_type": "code",
   "execution_count": 72,
   "metadata": {},
   "outputs": [
    {
     "name": "stdout",
     "output_type": "stream",
     "text": [
      "Random Forest Accuracy on the testing subset:  0.8263305322128851\n",
      "Random Forest Accuracy on the Cross-Validation Score:  0.8319047619047619\n"
     ]
    }
   ],
   "source": [
    "forest_accuracy = cross_val_score(rf, X_test, y_test, cv = 10)\n",
    "forest_cvs = forest_accuracy.mean()\n",
    "print('Random Forest Accuracy on the testing subset: ', format(rf.score(X_test,y_test)))\n",
    "print('Random Forest Accuracy on the Cross-Validation Score: ', format(forest_cvs))"
   ]
  },
  {
   "cell_type": "markdown",
   "metadata": {},
   "source": [
    "#### Confusion Matrix"
   ]
  },
  {
   "cell_type": "code",
   "execution_count": 82,
   "metadata": {},
   "outputs": [
    {
     "data": {
      "text/plain": [
       "array([[201,  26],\n",
       "       [ 36,  94]], dtype=int64)"
      ]
     },
     "execution_count": 82,
     "metadata": {},
     "output_type": "execute_result"
    }
   ],
   "source": [
    "##Confusion matrix for Random Forest\n",
    "predictions = rf.predict(X_test)\n",
    "cm = confusion_matrix(y_test, predictions)\n",
    "cm"
   ]
  },
  {
   "cell_type": "code",
   "execution_count": 81,
   "metadata": {},
   "outputs": [
    {
     "data": {
      "image/png": "[encoded data removed]",
      "text/plain": [
       "<Figure size 432x288 with 2 Axes>"
      ]
     },
     "metadata": {
      "needs_background": "light"
     },
     "output_type": "display_data"
    }
   ],
   "source": [
    "# outcome values order in sklearn\n",
    "##Confusion matrix for Random Forest\n",
    "class_names = [\"Did Not Survive\", \"Survived\"]\n",
    "plot_confusion_matrix(rf, X_test, y_test, \n",
    "                      cmap = 'Blues', \n",
    "                      display_labels = class_names)\n",
    "plt.show()\n"
   ]
  },
  {
   "cell_type": "markdown",
   "metadata": {},
   "source": [
    "From the Confusion Matrix above, the positive class is 'Survived' and the negative class is 'Did Not Survive'. The True Negative (TN) value is 201, the False Positive (FP) value is 26, the False Negative (FN) value is 36 and the True Positive (TP) value is 94.\n",
    "This means that the Random Forest model predicted a total of 237 people to not have survived when only 201 did not survived (from the test subset). There were 36 passengers wrongly predicted and did actually survive. On the other hand, out of 120 passengers predicted to survive, 26 did not actually survive."
   ]
  },
  {
   "cell_type": "code",
   "execution_count": 83,
   "metadata": {},
   "outputs": [
    {
     "data": {
      "text/html": [
       "<div>\n",
       "<style scoped>\n",
       "    .dataframe tbody tr th:only-of-type {\n",
       "        vertical-align: middle;\n",
       "    }\n",
       "\n",
       "    .dataframe tbody tr th {\n",
       "        vertical-align: top;\n",
       "    }\n",
       "\n",
       "    .dataframe thead th {\n",
       "        text-align: right;\n",
       "    }\n",
       "</style>\n",
       "<table border=\"1\" class=\"dataframe\">\n",
       "  <thead>\n",
       "    <tr style=\"text-align: right;\">\n",
       "      <th></th>\n",
       "      <th></th>\n",
       "      <th>Score</th>\n",
       "    </tr>\n",
       "  </thead>\n",
       "  <tbody>\n",
       "    <tr>\n",
       "      <th>0</th>\n",
       "      <td>Accuracy</td>\n",
       "      <td>0.826331</td>\n",
       "    </tr>\n",
       "    <tr>\n",
       "      <th>1</th>\n",
       "      <td>Precision</td>\n",
       "      <td>0.783333</td>\n",
       "    </tr>\n",
       "    <tr>\n",
       "      <th>2</th>\n",
       "      <td>Recall</td>\n",
       "      <td>0.723077</td>\n",
       "    </tr>\n",
       "    <tr>\n",
       "      <th>3</th>\n",
       "      <td>Specificity</td>\n",
       "      <td>0.885463</td>\n",
       "    </tr>\n",
       "  </tbody>\n",
       "</table>\n",
       "</div>"
      ],
      "text/plain": [
       "                   Score\n",
       "0     Accuracy  0.826331\n",
       "1    Precision  0.783333\n",
       "2       Recall  0.723077\n",
       "3  Specificity  0.885463"
      ]
     },
     "execution_count": 83,
     "metadata": {},
     "output_type": "execute_result"
    }
   ],
   "source": [
    "# outcome values order in sklearn\n",
    "tn = cm[0][0]\n",
    "fp = cm[0][1]\n",
    "fn = cm[1][0]\n",
    "tp = cm[1][1]\n",
    "\n",
    "\n",
    "forest_cm_accuracy = (tp + tn) / (tp + fp + fn + tn)\n",
    "forest_cm_precision = tp / (tp + fp)\n",
    "forest_cm_recall = tp / (tp + fn)\n",
    "forest_cm_spec = tn / (tn + fp)\n",
    "\n",
    "results = pd.DataFrame({\n",
    "    '': ['Accuracy', 'Precision', \n",
    "              'Recall', 'Specificity'],\n",
    "    'Score': [forest_cm_accuracy, forest_cm_precision, forest_cm_recall, forest_cm_spec]})\n",
    "results"
   ]
  },
  {
   "cell_type": "markdown",
   "metadata": {},
   "source": [
    "Accuracy is the percentage of correct model predictions over the total number of predictions. It assumes that the positive and negative errors are the same. In some cases, it is not. The accuracy of this model is considerably good at 82.6%."
   ]
  },
  {
   "cell_type": "markdown",
   "metadata": {},
   "source": [
    "Precision measures how many of the positives returned are true positives. A precision of 78.3% indicates that, when this Random Forest model predicts a positive class, it is correct 78.3% of the time."
   ]
  },
  {
   "cell_type": "markdown",
   "metadata": {},
   "source": [
    "Recall calculates how many true positives the model returns whenever it predicts the positive class. The confusion matrix shows that this model correctly predicts that a passenger will survive 72.3% of the time."
   ]
  },
  {
   "cell_type": "markdown",
   "metadata": {},
   "source": [
    "Specificity is the opposite of recall; it calculates how many true negatives the model returns whenever it predicts the negative class. In this case, this Random Forest model correctly predicts that a passenger will not survive 88.5% of the time."
   ]
  },
  {
   "cell_type": "markdown",
   "metadata": {},
   "source": [
    "### Improvement\n",
    "Future improvements could be brought up if more data or features are revealed; it could improve the machine learning models' ability to predict if a passenger survived or not. On the other hand, we can trace back and find a way to replace the many missing values in the feature 'Cabin' instead of dropping it as it may be an important indicator of survival.\n",
    "\n",
    "### Compare with other models\n",
    "The accuracy on the testing subset of other models are as follows. Cross-validation scores will be used."
   ]
  },
  {
   "cell_type": "code",
   "execution_count": null,
   "metadata": {},
   "outputs": [],
   "source": [
    "##Decision Tree\n",
    "tree_test_accuracy = cross_val_score(clf, X_test, y_test, cv = 10)\n",
    "tree_test_score = tree_test_accuracy.mean()\n",
    "\n",
    "##Naive Bayes\n",
    "gnb_test_accuracy = cross_val_score(gnb, X_test, y_test, cv = 10)\n",
    "gnb_test_score = gnb_test_accuracy.mean()\n",
    "\n",
    "##SVM\n",
    "svm_test_accuracy = cross_val_score(svm_clf, X_test, y_test, cv = 10)\n",
    "svm_test_score = svm_test_accuracy.mean()\n",
    "\n",
    "##Logistic Regression\n",
    "lr_test_accuracy = cross_val_score(lr_clf, X_test, y_test, cv = 10)\n",
    "lr_test_score = lr_test_accuracy.mean()\n",
    "\n",
    "##printing results\n",
    "results = pd.DataFrame({\n",
    "    'Model': ['Support Vector Machines', 'Logistic Regression', \n",
    "              'Random Forest', 'Naive Bayes', \n",
    "              'Decision Tree'],\n",
    "    'Score': [svm_test_score, lr_test_score, forest_test_score, gnb_test_score, tree_test_score]})\n",
    "results['Score'].sort_values(ascending=False)\n",
    "result_df = results.sort_values(by = 'Score', ascending=False)\n",
    "result_df = result_df.set_index('Score')\n",
    "result_df.head(5)"
   ]
  },
  {
   "cell_type": "markdown",
   "metadata": {},
   "source": [
    "As shown, Random Forest model still has the highest score among all models with the testing subset."
   ]
  },
  {
   "cell_type": "markdown",
   "metadata": {},
   "source": [
    "### Compare with other studies"
   ]
  },
  {
   "cell_type": "markdown",
   "metadata": {},
   "source": [
    "A study by Yogesh Kakde and Shefali Agrawal in 2018 performed survival prediction of Titanic passengers with machine learning techniques with R programming. The authors' objective is to explore previously unknown information to complete the analysis of who were most likely to survive. The results of applying machine learning models are then compared with each other."
   ]
  },
  {
   "cell_type": "markdown",
   "metadata": {},
   "source": [
    "#### Data\n",
    "The dataset was also obtained from the website Kaggle. To clean the data, the missing values are inputted with random values, instead of mean, from the existing sample. Under the 'Fare' feature, there was one observation with a missing fare value. The value of 'Embarked' and 'Pclass' of this passenger is found and a median was calculated out of all the fare values of passengers who had the same embarkation and passenger class as this passenger."
   ]
  },
  {
   "cell_type": "markdown",
   "metadata": {},
   "source": [
    "#### EDA\n",
    "The 2018 study explored the relationship between all of the features with survival rate. The study also combined 'SibSp' and 'Parch' to create a new feature containing family size as well as extract the titles from 'Names'.  Additionally, the feature 'Cabin' was not dropped. "
   ]
  },
  {
   "cell_type": "markdown",
   "metadata": {},
   "source": [
    "#### Model Development\n",
    "The study implemented the following machine learning models:\n",
    "- Logistic Regression\n",
    "- Decision Tree\n",
    "- Random Forest\n",
    "- Support Vector Machine (SVM)\n",
    "\n",
    "In evaluation, they created a confusion matrix for all models and used sensitivity, specificity, positive predictive value and negative predicted value to evaluate the models while our research used the in-built .score() function for each model as well as cross-validation score. A confusion matrix was constructed as well but it was only used to calculate accuracy.\n"
   ]
  },
  {
   "cell_type": "markdown",
   "metadata": {},
   "source": [
    "#### Results\n",
    "Among all the models, Logistic Regression had the highest accuracy of 83.7%. According to Kakde and Agrawal, logistic regression and SVM models are ideal for classification problems as it has good accuracy. In our research, the Random Forest model had highest accuracy of 82.3%, which is slighly lesser than the authors' results. The different results and model could be due to different data pre-processing techniques and the fact that they did not drop the 'Cabin' feature."
   ]
  },
  {
   "cell_type": "markdown",
   "metadata": {},
   "source": [
    "# Limitations\n",
    "One limitation in this dataset is the number of missing values, especially in the feature 'Cabin'. It may have been an important factor in determining whether the passenger survived as different cabins are in different floors / locations. Usually missing values can be handled fairly well, however, the 'Cabin' feature contained over 600 missing values, making it difficult to fill in the values accurately. Furthermore, the results generated from this research might only be applicable to the RMS Titanic only due to different factors that might play an important role."
   ]
  },
  {
   "cell_type": "markdown",
   "metadata": {},
   "source": [
    "For future research, a more complete dataset with more details on the cabin can help improve the research. While the accuracy of the Random Forest model is relatively well, it could be made better using other algorithms such as neural networks. More thorough data preparation can also be done to ensure the data being fitted into the model has little to no noise."
   ]
  },
  {
   "cell_type": "markdown",
   "metadata": {},
   "source": [
    "# Conclusions\n",
    "In conclusion, this research showed that factors such as economical status and age greatly influences the prediction of passengers' survival on the RMS Titanic. As our objective is to find which factors truly influences survival, the results from the Decision Tree and Random Forest's feature importance achieved our aim. From the Decision Tree diagram and feature importance, gender had the greatest role in determining the survivability of a passenger. This is likely due to the 'women and children first' law the ship had to follow by."
   ]
  },
  {
   "cell_type": "markdown",
   "metadata": {},
   "source": [
    "As we can see from the results, Random Forest proved to be the best algorithm for the Titanic classification problem since the accuracy of Random Forest is the highest (82.3%) and Logistic Regression is the lowest accuracy (79.5%). However, the confusion matrix also shows that the Random Forest model is better at predicting passengers who will not survive. From this, these classification models could be implemented to discover and improve areas that reduces one's survivability. "
   ]
  },
  {
   "cell_type": "markdown",
   "metadata": {},
   "source": [
    "## References\n",
    "Kakde, Y. &amp; Agrawal, S., 2018. (PDF) Predicting Survival on Titanic by Applying Exploratory Data Analytics and Machine Learning Techniques. ResearchGate. Available at: https://www.researchgate.net/publication/325228831_Predicting_Survival_on_Titanic_by_Applying_Exploratory_Data_Analytics_and_Machine_Learning_Techniques [Accessed June 7, 2021]. "
   ]
  }
 ],
 "metadata": {
  "kernelspec": {
   "display_name": "Python 3.9.13",
   "language": "python",
   "name": "python3"
  },
  "language_info": {
   "codemirror_mode": {
    "name": "ipython",
    "version": 3
   },
   "file_extension": ".py",
   "mimetype": "text/x-python",
   "name": "python",
   "nbconvert_exporter": "python",
   "pygments_lexer": "ipython3",
   "version": "3.9.13"
  },
  "vscode": {
   "interpreter": {
    "hash": "5179d32cf6ec497baf3f8a3ef987cc77c5d2dc691fdde20a56316522f61a7323"
   }
  }
 },
 "nbformat": 4,
 "nbformat_minor": 4
}
